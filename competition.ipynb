{
 "cells": [
  {
   "cell_type": "markdown",
   "source": [
    "## Решение конкурса \"Турникеты\" на 330 баллов"
   ],
   "metadata": {
    "collapsed": false
   },
   "id": "c5f3478749f02e36"
  },
  {
   "cell_type": "code",
   "execution_count": 7,
   "id": "initial_id",
   "metadata": {
    "collapsed": true,
    "ExecuteTime": {
     "end_time": "2024-02-06T02:48:02.636678500Z",
     "start_time": "2024-02-06T02:48:02.341764900Z"
    }
   },
   "outputs": [],
   "source": [
    "import numpy as np\n",
    "import pandas as pd\n",
    "from sklearn.ensemble import RandomForestClassifier\n",
    "from sklearn.preprocessing import OneHotEncoder\n",
    "from sklearn.feature_extraction.text import CountVectorizer\n",
    "import warnings\n",
    "warnings.filterwarnings('ignore')"
   ]
  },
  {
   "cell_type": "markdown",
   "source": [
    "# Решение 1\n",
    "Решение на основе RandomForestClassifier, набирает 254 балла. Решение основано на применении OneHotEncoder к отдельным частям записи о времени прохода через турникет (дата, день недели, час, минута, месяц). И обработки полученных данных при помощи случайного леса с подобранными по GridSearch гиперпараметрами"
   ],
   "metadata": {
    "collapsed": false
   },
   "id": "b5c0192fd5aaa2f1"
  },
  {
   "cell_type": "code",
   "execution_count": 8,
   "outputs": [],
   "source": [
    "train_df = pd.read_csv(\"train.csv\")\n",
    "test_df = pd.read_csv(\"test.csv\")"
   ],
   "metadata": {
    "collapsed": false,
    "ExecuteTime": {
     "end_time": "2024-02-06T02:48:03.481548100Z",
     "start_time": "2024-02-06T02:48:02.355240200Z"
    }
   },
   "id": "61069c2928a257da"
  },
  {
   "cell_type": "code",
   "execution_count": 9,
   "outputs": [
    {
     "data": {
      "text/plain": "   Unnamed: 0  user_id                   ts  gate_id\n0           0       18  2022-07-29 09:08:54        7\n1           1       18  2022-07-29 09:09:54        9\n2           2       18  2022-07-29 09:09:54        9\n3           3       18  2022-07-29 09:10:06        5\n4           4       18  2022-07-29 09:10:08        5\n5           5       18  2022-07-29 09:10:34       10\n6           6       18  2022-07-29 09:32:47       11\n7           7       18  2022-07-29 09:33:12        4\n8           8       18  2022-07-29 09:33:13        4\n9           9        1  2022-07-29 09:33:16        7",
      "text/html": "<div>\n<style scoped>\n    .dataframe tbody tr th:only-of-type {\n        vertical-align: middle;\n    }\n\n    .dataframe tbody tr th {\n        vertical-align: top;\n    }\n\n    .dataframe thead th {\n        text-align: right;\n    }\n</style>\n<table border=\"1\" class=\"dataframe\">\n  <thead>\n    <tr style=\"text-align: right;\">\n      <th></th>\n      <th>Unnamed: 0</th>\n      <th>user_id</th>\n      <th>ts</th>\n      <th>gate_id</th>\n    </tr>\n  </thead>\n  <tbody>\n    <tr>\n      <th>0</th>\n      <td>0</td>\n      <td>18</td>\n      <td>2022-07-29 09:08:54</td>\n      <td>7</td>\n    </tr>\n    <tr>\n      <th>1</th>\n      <td>1</td>\n      <td>18</td>\n      <td>2022-07-29 09:09:54</td>\n      <td>9</td>\n    </tr>\n    <tr>\n      <th>2</th>\n      <td>2</td>\n      <td>18</td>\n      <td>2022-07-29 09:09:54</td>\n      <td>9</td>\n    </tr>\n    <tr>\n      <th>3</th>\n      <td>3</td>\n      <td>18</td>\n      <td>2022-07-29 09:10:06</td>\n      <td>5</td>\n    </tr>\n    <tr>\n      <th>4</th>\n      <td>4</td>\n      <td>18</td>\n      <td>2022-07-29 09:10:08</td>\n      <td>5</td>\n    </tr>\n    <tr>\n      <th>5</th>\n      <td>5</td>\n      <td>18</td>\n      <td>2022-07-29 09:10:34</td>\n      <td>10</td>\n    </tr>\n    <tr>\n      <th>6</th>\n      <td>6</td>\n      <td>18</td>\n      <td>2022-07-29 09:32:47</td>\n      <td>11</td>\n    </tr>\n    <tr>\n      <th>7</th>\n      <td>7</td>\n      <td>18</td>\n      <td>2022-07-29 09:33:12</td>\n      <td>4</td>\n    </tr>\n    <tr>\n      <th>8</th>\n      <td>8</td>\n      <td>18</td>\n      <td>2022-07-29 09:33:13</td>\n      <td>4</td>\n    </tr>\n    <tr>\n      <th>9</th>\n      <td>9</td>\n      <td>1</td>\n      <td>2022-07-29 09:33:16</td>\n      <td>7</td>\n    </tr>\n  </tbody>\n</table>\n</div>"
     },
     "execution_count": 9,
     "metadata": {},
     "output_type": "execute_result"
    }
   ],
   "source": [
    "train_df.head(10)"
   ],
   "metadata": {
    "collapsed": false,
    "ExecuteTime": {
     "end_time": "2024-02-06T02:48:03.655711500Z",
     "start_time": "2024-02-06T02:48:02.396356400Z"
    }
   },
   "id": "e50898396e3db59d"
  },
  {
   "cell_type": "code",
   "execution_count": 10,
   "outputs": [
    {
     "data": {
      "text/plain": "(37518, 4)"
     },
     "execution_count": 10,
     "metadata": {},
     "output_type": "execute_result"
    }
   ],
   "source": [
    "train_df.shape"
   ],
   "metadata": {
    "collapsed": false,
    "ExecuteTime": {
     "end_time": "2024-02-06T02:48:03.656711700Z",
     "start_time": "2024-02-06T02:48:02.409971100Z"
    }
   },
   "id": "7d683edc6e5e8664"
  },
  {
   "cell_type": "code",
   "execution_count": 11,
   "outputs": [
    {
     "data": {
      "text/plain": "   Unnamed: 0                   ts  gate_id user_word\n0       37518  2023-01-03 08:21:00        9      gini\n1       37519  2023-01-03 08:21:00        9      gini\n2       37520  2023-01-03 08:21:18        5      gini\n3       37521  2023-01-03 08:21:19        5      gini\n4       37522  2023-01-03 08:21:39       10      gini",
      "text/html": "<div>\n<style scoped>\n    .dataframe tbody tr th:only-of-type {\n        vertical-align: middle;\n    }\n\n    .dataframe tbody tr th {\n        vertical-align: top;\n    }\n\n    .dataframe thead th {\n        text-align: right;\n    }\n</style>\n<table border=\"1\" class=\"dataframe\">\n  <thead>\n    <tr style=\"text-align: right;\">\n      <th></th>\n      <th>Unnamed: 0</th>\n      <th>ts</th>\n      <th>gate_id</th>\n      <th>user_word</th>\n    </tr>\n  </thead>\n  <tbody>\n    <tr>\n      <th>0</th>\n      <td>37518</td>\n      <td>2023-01-03 08:21:00</td>\n      <td>9</td>\n      <td>gini</td>\n    </tr>\n    <tr>\n      <th>1</th>\n      <td>37519</td>\n      <td>2023-01-03 08:21:00</td>\n      <td>9</td>\n      <td>gini</td>\n    </tr>\n    <tr>\n      <th>2</th>\n      <td>37520</td>\n      <td>2023-01-03 08:21:18</td>\n      <td>5</td>\n      <td>gini</td>\n    </tr>\n    <tr>\n      <th>3</th>\n      <td>37521</td>\n      <td>2023-01-03 08:21:19</td>\n      <td>5</td>\n      <td>gini</td>\n    </tr>\n    <tr>\n      <th>4</th>\n      <td>37522</td>\n      <td>2023-01-03 08:21:39</td>\n      <td>10</td>\n      <td>gini</td>\n    </tr>\n  </tbody>\n</table>\n</div>"
     },
     "execution_count": 11,
     "metadata": {},
     "output_type": "execute_result"
    }
   ],
   "source": [
    "test_df.head()"
   ],
   "metadata": {
    "collapsed": false,
    "ExecuteTime": {
     "end_time": "2024-02-06T02:48:03.684634600Z",
     "start_time": "2024-02-06T02:48:02.415467300Z"
    }
   },
   "id": "574c3e70b5cae111"
  },
  {
   "cell_type": "code",
   "execution_count": 12,
   "outputs": [
    {
     "data": {
      "text/plain": "(7125, 4)"
     },
     "execution_count": 12,
     "metadata": {},
     "output_type": "execute_result"
    }
   ],
   "source": [
    "test_df.shape"
   ],
   "metadata": {
    "collapsed": false,
    "ExecuteTime": {
     "end_time": "2024-02-06T02:48:03.725525900Z",
     "start_time": "2024-02-06T02:48:02.427136500Z"
    }
   },
   "id": "1c6c46ce51dc738"
  },
  {
   "cell_type": "code",
   "execution_count": 13,
   "outputs": [],
   "source": [
    "def preprocess(train, test):\n",
    "    df = pd.concat([train, test], axis=0, ignore_index=True)\n",
    "    df = df.drop(['Unnamed: 0'], axis=1)\n",
    "    df['ts'] = pd.to_datetime(df['ts'])\n",
    "    df = df.sort_values(by='ts')\n",
    "\n",
    "    df['hour'] = df['ts'].dt.hour\n",
    "    df['day'] = df['ts'].dt.day_name()\n",
    "    df['month'] = df['ts'].dt.month_name()\n",
    "    df['minute'] = df['ts'].dt.minute\n",
    "    df['date'] = df['ts'].dt.day\n",
    "    columns_encode = ['day', 'month', 'hour', 'minute', 'date']\n",
    "    encoder = OneHotEncoder()\n",
    "    encoded_features = pd.DataFrame(encoder.fit_transform(df[columns_encode]).toarray(), columns=encoder.get_feature_names_out(columns_encode))\n",
    "    df = pd.concat([df, encoded_features], axis=1)\n",
    "    df = df.drop(columns_encode, axis=1)\n",
    "    df = df.drop(['ts'], axis=1)\n",
    "    X = df[df['user_word'].isna()]\n",
    "    y = df[df['user_id'].isna()]\n",
    "    X = X.drop(['user_word'], axis=1)\n",
    "    X['user_id'] = X['user_id'].astype('int64')\n",
    "    y = y.drop(['user_id'], axis=1)\n",
    "    y_columns = y.columns.tolist()\n",
    "    y_columns.remove('user_word')\n",
    "    X = X.astype('int64')\n",
    "    y[y_columns] = y[y_columns].astype('int64')\n",
    "    return X, y\n"
   ],
   "metadata": {
    "collapsed": false,
    "ExecuteTime": {
     "end_time": "2024-02-06T02:48:03.736499500Z",
     "start_time": "2024-02-06T02:48:02.438094700Z"
    }
   },
   "id": "3d7fba61b75d5af9"
  },
  {
   "cell_type": "code",
   "execution_count": 14,
   "outputs": [
    {
     "data": {
      "text/plain": "   user_id  gate_id  day_Friday  day_Monday  day_Saturday  day_Sunday  \\\n0       18        7           1           0             0           0   \n1       18        9           1           0             0           0   \n2       18        9           1           0             0           0   \n3       18        5           1           0             0           0   \n4       18        5           1           0             0           0   \n\n   day_Thursday  day_Tuesday  day_Wednesday  month_August  ...  date_22  \\\n0             0            0              0             0  ...        0   \n1             0            0              0             0  ...        0   \n2             0            0              0             0  ...        0   \n3             0            0              0             0  ...        0   \n4             0            0              0             0  ...        0   \n\n   date_23  date_24  date_25  date_26  date_27  date_28  date_29  date_30  \\\n0        0        0        0        0        0        0        1        0   \n1        0        0        0        0        0        0        1        0   \n2        0        0        0        0        0        0        1        0   \n3        0        0        0        0        0        0        1        0   \n4        0        0        0        0        0        0        1        0   \n\n   date_31  \n0        0  \n1        0  \n2        0  \n3        0  \n4        0  \n\n[5 rows x 129 columns]",
      "text/html": "<div>\n<style scoped>\n    .dataframe tbody tr th:only-of-type {\n        vertical-align: middle;\n    }\n\n    .dataframe tbody tr th {\n        vertical-align: top;\n    }\n\n    .dataframe thead th {\n        text-align: right;\n    }\n</style>\n<table border=\"1\" class=\"dataframe\">\n  <thead>\n    <tr style=\"text-align: right;\">\n      <th></th>\n      <th>user_id</th>\n      <th>gate_id</th>\n      <th>day_Friday</th>\n      <th>day_Monday</th>\n      <th>day_Saturday</th>\n      <th>day_Sunday</th>\n      <th>day_Thursday</th>\n      <th>day_Tuesday</th>\n      <th>day_Wednesday</th>\n      <th>month_August</th>\n      <th>...</th>\n      <th>date_22</th>\n      <th>date_23</th>\n      <th>date_24</th>\n      <th>date_25</th>\n      <th>date_26</th>\n      <th>date_27</th>\n      <th>date_28</th>\n      <th>date_29</th>\n      <th>date_30</th>\n      <th>date_31</th>\n    </tr>\n  </thead>\n  <tbody>\n    <tr>\n      <th>0</th>\n      <td>18</td>\n      <td>7</td>\n      <td>1</td>\n      <td>0</td>\n      <td>0</td>\n      <td>0</td>\n      <td>0</td>\n      <td>0</td>\n      <td>0</td>\n      <td>0</td>\n      <td>...</td>\n      <td>0</td>\n      <td>0</td>\n      <td>0</td>\n      <td>0</td>\n      <td>0</td>\n      <td>0</td>\n      <td>0</td>\n      <td>1</td>\n      <td>0</td>\n      <td>0</td>\n    </tr>\n    <tr>\n      <th>1</th>\n      <td>18</td>\n      <td>9</td>\n      <td>1</td>\n      <td>0</td>\n      <td>0</td>\n      <td>0</td>\n      <td>0</td>\n      <td>0</td>\n      <td>0</td>\n      <td>0</td>\n      <td>...</td>\n      <td>0</td>\n      <td>0</td>\n      <td>0</td>\n      <td>0</td>\n      <td>0</td>\n      <td>0</td>\n      <td>0</td>\n      <td>1</td>\n      <td>0</td>\n      <td>0</td>\n    </tr>\n    <tr>\n      <th>2</th>\n      <td>18</td>\n      <td>9</td>\n      <td>1</td>\n      <td>0</td>\n      <td>0</td>\n      <td>0</td>\n      <td>0</td>\n      <td>0</td>\n      <td>0</td>\n      <td>0</td>\n      <td>...</td>\n      <td>0</td>\n      <td>0</td>\n      <td>0</td>\n      <td>0</td>\n      <td>0</td>\n      <td>0</td>\n      <td>0</td>\n      <td>1</td>\n      <td>0</td>\n      <td>0</td>\n    </tr>\n    <tr>\n      <th>3</th>\n      <td>18</td>\n      <td>5</td>\n      <td>1</td>\n      <td>0</td>\n      <td>0</td>\n      <td>0</td>\n      <td>0</td>\n      <td>0</td>\n      <td>0</td>\n      <td>0</td>\n      <td>...</td>\n      <td>0</td>\n      <td>0</td>\n      <td>0</td>\n      <td>0</td>\n      <td>0</td>\n      <td>0</td>\n      <td>0</td>\n      <td>1</td>\n      <td>0</td>\n      <td>0</td>\n    </tr>\n    <tr>\n      <th>4</th>\n      <td>18</td>\n      <td>5</td>\n      <td>1</td>\n      <td>0</td>\n      <td>0</td>\n      <td>0</td>\n      <td>0</td>\n      <td>0</td>\n      <td>0</td>\n      <td>0</td>\n      <td>...</td>\n      <td>0</td>\n      <td>0</td>\n      <td>0</td>\n      <td>0</td>\n      <td>0</td>\n      <td>0</td>\n      <td>0</td>\n      <td>1</td>\n      <td>0</td>\n      <td>0</td>\n    </tr>\n  </tbody>\n</table>\n<p>5 rows × 129 columns</p>\n</div>"
     },
     "execution_count": 14,
     "metadata": {},
     "output_type": "execute_result"
    }
   ],
   "source": [
    "train_data, test_data = preprocess(train_df, test_df)\n",
    "train_data.head()"
   ],
   "metadata": {
    "collapsed": false,
    "ExecuteTime": {
     "end_time": "2024-02-06T02:48:04.133999700Z",
     "start_time": "2024-02-06T02:48:02.444238700Z"
    }
   },
   "id": "900ed84f250fea41"
  },
  {
   "cell_type": "code",
   "execution_count": 15,
   "outputs": [
    {
     "data": {
      "text/plain": "(37518, 129)"
     },
     "execution_count": 15,
     "metadata": {},
     "output_type": "execute_result"
    }
   ],
   "source": [
    "train_data.shape"
   ],
   "metadata": {
    "collapsed": false,
    "ExecuteTime": {
     "end_time": "2024-02-06T02:48:04.133999700Z",
     "start_time": "2024-02-06T02:48:02.770684600Z"
    }
   },
   "id": "870766e95a648f08"
  },
  {
   "cell_type": "code",
   "execution_count": 16,
   "outputs": [
    {
     "data": {
      "text/plain": "       gate_id user_word  day_Friday  day_Monday  day_Saturday  day_Sunday  \\\n37518        9      gini           0           0             0           0   \n37519        9      gini           0           0             0           0   \n37520        5      gini           0           0             0           0   \n37521        5      gini           0           0             0           0   \n37522       10      gini           0           0             0           0   \n\n       day_Thursday  day_Tuesday  day_Wednesday  month_August  ...  date_22  \\\n37518             0            1              0             0  ...        0   \n37519             0            1              0             0  ...        0   \n37520             0            1              0             0  ...        0   \n37521             0            1              0             0  ...        0   \n37522             0            1              0             0  ...        0   \n\n       date_23  date_24  date_25  date_26  date_27  date_28  date_29  date_30  \\\n37518        0        0        0        0        0        0        0        0   \n37519        0        0        0        0        0        0        0        0   \n37520        0        0        0        0        0        0        0        0   \n37521        0        0        0        0        0        0        0        0   \n37522        0        0        0        0        0        0        0        0   \n\n       date_31  \n37518        0  \n37519        0  \n37520        0  \n37521        0  \n37522        0  \n\n[5 rows x 129 columns]",
      "text/html": "<div>\n<style scoped>\n    .dataframe tbody tr th:only-of-type {\n        vertical-align: middle;\n    }\n\n    .dataframe tbody tr th {\n        vertical-align: top;\n    }\n\n    .dataframe thead th {\n        text-align: right;\n    }\n</style>\n<table border=\"1\" class=\"dataframe\">\n  <thead>\n    <tr style=\"text-align: right;\">\n      <th></th>\n      <th>gate_id</th>\n      <th>user_word</th>\n      <th>day_Friday</th>\n      <th>day_Monday</th>\n      <th>day_Saturday</th>\n      <th>day_Sunday</th>\n      <th>day_Thursday</th>\n      <th>day_Tuesday</th>\n      <th>day_Wednesday</th>\n      <th>month_August</th>\n      <th>...</th>\n      <th>date_22</th>\n      <th>date_23</th>\n      <th>date_24</th>\n      <th>date_25</th>\n      <th>date_26</th>\n      <th>date_27</th>\n      <th>date_28</th>\n      <th>date_29</th>\n      <th>date_30</th>\n      <th>date_31</th>\n    </tr>\n  </thead>\n  <tbody>\n    <tr>\n      <th>37518</th>\n      <td>9</td>\n      <td>gini</td>\n      <td>0</td>\n      <td>0</td>\n      <td>0</td>\n      <td>0</td>\n      <td>0</td>\n      <td>1</td>\n      <td>0</td>\n      <td>0</td>\n      <td>...</td>\n      <td>0</td>\n      <td>0</td>\n      <td>0</td>\n      <td>0</td>\n      <td>0</td>\n      <td>0</td>\n      <td>0</td>\n      <td>0</td>\n      <td>0</td>\n      <td>0</td>\n    </tr>\n    <tr>\n      <th>37519</th>\n      <td>9</td>\n      <td>gini</td>\n      <td>0</td>\n      <td>0</td>\n      <td>0</td>\n      <td>0</td>\n      <td>0</td>\n      <td>1</td>\n      <td>0</td>\n      <td>0</td>\n      <td>...</td>\n      <td>0</td>\n      <td>0</td>\n      <td>0</td>\n      <td>0</td>\n      <td>0</td>\n      <td>0</td>\n      <td>0</td>\n      <td>0</td>\n      <td>0</td>\n      <td>0</td>\n    </tr>\n    <tr>\n      <th>37520</th>\n      <td>5</td>\n      <td>gini</td>\n      <td>0</td>\n      <td>0</td>\n      <td>0</td>\n      <td>0</td>\n      <td>0</td>\n      <td>1</td>\n      <td>0</td>\n      <td>0</td>\n      <td>...</td>\n      <td>0</td>\n      <td>0</td>\n      <td>0</td>\n      <td>0</td>\n      <td>0</td>\n      <td>0</td>\n      <td>0</td>\n      <td>0</td>\n      <td>0</td>\n      <td>0</td>\n    </tr>\n    <tr>\n      <th>37521</th>\n      <td>5</td>\n      <td>gini</td>\n      <td>0</td>\n      <td>0</td>\n      <td>0</td>\n      <td>0</td>\n      <td>0</td>\n      <td>1</td>\n      <td>0</td>\n      <td>0</td>\n      <td>...</td>\n      <td>0</td>\n      <td>0</td>\n      <td>0</td>\n      <td>0</td>\n      <td>0</td>\n      <td>0</td>\n      <td>0</td>\n      <td>0</td>\n      <td>0</td>\n      <td>0</td>\n    </tr>\n    <tr>\n      <th>37522</th>\n      <td>10</td>\n      <td>gini</td>\n      <td>0</td>\n      <td>0</td>\n      <td>0</td>\n      <td>0</td>\n      <td>0</td>\n      <td>1</td>\n      <td>0</td>\n      <td>0</td>\n      <td>...</td>\n      <td>0</td>\n      <td>0</td>\n      <td>0</td>\n      <td>0</td>\n      <td>0</td>\n      <td>0</td>\n      <td>0</td>\n      <td>0</td>\n      <td>0</td>\n      <td>0</td>\n    </tr>\n  </tbody>\n</table>\n<p>5 rows × 129 columns</p>\n</div>"
     },
     "execution_count": 16,
     "metadata": {},
     "output_type": "execute_result"
    }
   ],
   "source": [
    "test_data.head()"
   ],
   "metadata": {
    "collapsed": false,
    "ExecuteTime": {
     "end_time": "2024-02-06T02:48:04.134997Z",
     "start_time": "2024-02-06T02:48:02.776671400Z"
    }
   },
   "id": "225ee055c1441db6"
  },
  {
   "cell_type": "code",
   "execution_count": 17,
   "outputs": [
    {
     "data": {
      "text/plain": "(7125, 129)"
     },
     "execution_count": 17,
     "metadata": {},
     "output_type": "execute_result"
    }
   ],
   "source": [
    "test_data.shape"
   ],
   "metadata": {
    "collapsed": false,
    "ExecuteTime": {
     "end_time": "2024-02-06T02:48:04.145967900Z",
     "start_time": "2024-02-06T02:48:02.796617400Z"
    }
   },
   "id": "9e468acfd78c4416"
  },
  {
   "cell_type": "code",
   "execution_count": 18,
   "outputs": [],
   "source": [
    "y = train_data['user_id']\n",
    "X = train_data.drop(['user_id'], axis=1)"
   ],
   "metadata": {
    "collapsed": false,
    "ExecuteTime": {
     "end_time": "2024-02-06T02:48:04.145967900Z",
     "start_time": "2024-02-06T02:48:02.806038600Z"
    }
   },
   "id": "e8e11287bcb04ec3"
  },
  {
   "cell_type": "code",
   "execution_count": 19,
   "outputs": [],
   "source": [
    "model_best = RandomForestClassifier(random_state=42, min_samples_split=2, n_estimators=500, max_depth=None, bootstrap=False, max_features='log2')"
   ],
   "metadata": {
    "collapsed": false,
    "ExecuteTime": {
     "end_time": "2024-02-06T02:48:04.145967900Z",
     "start_time": "2024-02-06T02:48:02.829700500Z"
    }
   },
   "id": "7d76dedad4a918ef"
  },
  {
   "cell_type": "markdown",
   "source": [
    "Даныне гиперпараметры были отобраны по GridSearch с кросс-валидацией, а так же валидацией при помощи предварительного разделения тренировочной выборки на тренировочную и валидационную. Подбором гиперпараметров удалось поднять результат со 126 баллов до 206.\n",
    "Я провел много экспериментов с использованием различных моделей машинного обучения (одиночные деревья решений, логистическая регрессия, многослойный перцептрон, k ближайших соседей, градиентный бустинг). Ни одна из них не выдала результат лучше случайного леса, который был выбран мной в baseline. Я попробовал совместить различные модели в один VotingClassifier, но результат либо ухудшался, либо не изменялся, поэтому от данной идеи тоже пришлось отказаться. В качестве эксперимента я попробовал подойти к данной задаче как к временным рядам и обучить нейросеть на последовательностях прохождений через турниеты для разных пользователей. Я использовал PyTorch и LSTM нейронную сеть для классификации на временных рядах, но этот подход оказался тупиковым, нейросеть не смогла обучиться на удовлетворительный результат."
   ],
   "metadata": {
    "collapsed": false
   },
   "id": "35269948ac49d4e7"
  },
  {
   "cell_type": "code",
   "execution_count": 20,
   "outputs": [
    {
     "data": {
      "text/plain": "RandomForestClassifier(bootstrap=False, max_features='log2', n_estimators=500,\n                       random_state=42)",
      "text/html": "<style>#sk-container-id-1 {\n  /* Definition of color scheme common for light and dark mode */\n  --sklearn-color-text: black;\n  --sklearn-color-line: gray;\n  /* Definition of color scheme for unfitted estimators */\n  --sklearn-color-unfitted-level-0: #fff5e6;\n  --sklearn-color-unfitted-level-1: #f6e4d2;\n  --sklearn-color-unfitted-level-2: #ffe0b3;\n  --sklearn-color-unfitted-level-3: chocolate;\n  /* Definition of color scheme for fitted estimators */\n  --sklearn-color-fitted-level-0: #f0f8ff;\n  --sklearn-color-fitted-level-1: #d4ebff;\n  --sklearn-color-fitted-level-2: #b3dbfd;\n  --sklearn-color-fitted-level-3: cornflowerblue;\n\n  /* Specific color for light theme */\n  --sklearn-color-text-on-default-background: var(--sg-text-color, var(--theme-code-foreground, var(--jp-content-font-color1, black)));\n  --sklearn-color-background: var(--sg-background-color, var(--theme-background, var(--jp-layout-color0, white)));\n  --sklearn-color-border-box: var(--sg-text-color, var(--theme-code-foreground, var(--jp-content-font-color1, black)));\n  --sklearn-color-icon: #696969;\n\n  @media (prefers-color-scheme: dark) {\n    /* Redefinition of color scheme for dark theme */\n    --sklearn-color-text-on-default-background: var(--sg-text-color, var(--theme-code-foreground, var(--jp-content-font-color1, white)));\n    --sklearn-color-background: var(--sg-background-color, var(--theme-background, var(--jp-layout-color0, #111)));\n    --sklearn-color-border-box: var(--sg-text-color, var(--theme-code-foreground, var(--jp-content-font-color1, white)));\n    --sklearn-color-icon: #878787;\n  }\n}\n\n#sk-container-id-1 {\n  color: var(--sklearn-color-text);\n}\n\n#sk-container-id-1 pre {\n  padding: 0;\n}\n\n#sk-container-id-1 input.sk-hidden--visually {\n  border: 0;\n  clip: rect(1px 1px 1px 1px);\n  clip: rect(1px, 1px, 1px, 1px);\n  height: 1px;\n  margin: -1px;\n  overflow: hidden;\n  padding: 0;\n  position: absolute;\n  width: 1px;\n}\n\n#sk-container-id-1 div.sk-dashed-wrapped {\n  border: 1px dashed var(--sklearn-color-line);\n  margin: 0 0.4em 0.5em 0.4em;\n  box-sizing: border-box;\n  padding-bottom: 0.4em;\n  background-color: var(--sklearn-color-background);\n}\n\n#sk-container-id-1 div.sk-container {\n  /* jupyter's `normalize.less` sets `[hidden] { display: none; }`\n     but bootstrap.min.css set `[hidden] { display: none !important; }`\n     so we also need the `!important` here to be able to override the\n     default hidden behavior on the sphinx rendered scikit-learn.org.\n     See: https://github.com/scikit-learn/scikit-learn/issues/21755 */\n  display: inline-block !important;\n  position: relative;\n}\n\n#sk-container-id-1 div.sk-text-repr-fallback {\n  display: none;\n}\n\ndiv.sk-parallel-item,\ndiv.sk-serial,\ndiv.sk-item {\n  /* draw centered vertical line to link estimators */\n  background-image: linear-gradient(var(--sklearn-color-text-on-default-background), var(--sklearn-color-text-on-default-background));\n  background-size: 2px 100%;\n  background-repeat: no-repeat;\n  background-position: center center;\n}\n\n/* Parallel-specific style estimator block */\n\n#sk-container-id-1 div.sk-parallel-item::after {\n  content: \"\";\n  width: 100%;\n  border-bottom: 2px solid var(--sklearn-color-text-on-default-background);\n  flex-grow: 1;\n}\n\n#sk-container-id-1 div.sk-parallel {\n  display: flex;\n  align-items: stretch;\n  justify-content: center;\n  background-color: var(--sklearn-color-background);\n  position: relative;\n}\n\n#sk-container-id-1 div.sk-parallel-item {\n  display: flex;\n  flex-direction: column;\n}\n\n#sk-container-id-1 div.sk-parallel-item:first-child::after {\n  align-self: flex-end;\n  width: 50%;\n}\n\n#sk-container-id-1 div.sk-parallel-item:last-child::after {\n  align-self: flex-start;\n  width: 50%;\n}\n\n#sk-container-id-1 div.sk-parallel-item:only-child::after {\n  width: 0;\n}\n\n/* Serial-specific style estimator block */\n\n#sk-container-id-1 div.sk-serial {\n  display: flex;\n  flex-direction: column;\n  align-items: center;\n  background-color: var(--sklearn-color-background);\n  padding-right: 1em;\n  padding-left: 1em;\n}\n\n\n/* Toggleable style: style used for estimator/Pipeline/ColumnTransformer box that is\nclickable and can be expanded/collapsed.\n- Pipeline and ColumnTransformer use this feature and define the default style\n- Estimators will overwrite some part of the style using the `sk-estimator` class\n*/\n\n/* Pipeline and ColumnTransformer style (default) */\n\n#sk-container-id-1 div.sk-toggleable {\n  /* Default theme specific background. It is overwritten whether we have a\n  specific estimator or a Pipeline/ColumnTransformer */\n  background-color: var(--sklearn-color-background);\n}\n\n/* Toggleable label */\n#sk-container-id-1 label.sk-toggleable__label {\n  cursor: pointer;\n  display: block;\n  width: 100%;\n  margin-bottom: 0;\n  padding: 0.5em;\n  box-sizing: border-box;\n  text-align: center;\n}\n\n#sk-container-id-1 label.sk-toggleable__label-arrow:before {\n  /* Arrow on the left of the label */\n  content: \"▸\";\n  float: left;\n  margin-right: 0.25em;\n  color: var(--sklearn-color-icon);\n}\n\n#sk-container-id-1 label.sk-toggleable__label-arrow:hover:before {\n  color: var(--sklearn-color-text);\n}\n\n/* Toggleable content - dropdown */\n\n#sk-container-id-1 div.sk-toggleable__content {\n  max-height: 0;\n  max-width: 0;\n  overflow: hidden;\n  text-align: left;\n  /* unfitted */\n  background-color: var(--sklearn-color-unfitted-level-0);\n}\n\n#sk-container-id-1 div.sk-toggleable__content.fitted {\n  /* fitted */\n  background-color: var(--sklearn-color-fitted-level-0);\n}\n\n#sk-container-id-1 div.sk-toggleable__content pre {\n  margin: 0.2em;\n  border-radius: 0.25em;\n  color: var(--sklearn-color-text);\n  /* unfitted */\n  background-color: var(--sklearn-color-unfitted-level-0);\n}\n\n#sk-container-id-1 div.sk-toggleable__content.fitted pre {\n  /* unfitted */\n  background-color: var(--sklearn-color-fitted-level-0);\n}\n\n#sk-container-id-1 input.sk-toggleable__control:checked~div.sk-toggleable__content {\n  /* Expand drop-down */\n  max-height: 200px;\n  max-width: 100%;\n  overflow: auto;\n}\n\n#sk-container-id-1 input.sk-toggleable__control:checked~label.sk-toggleable__label-arrow:before {\n  content: \"▾\";\n}\n\n/* Pipeline/ColumnTransformer-specific style */\n\n#sk-container-id-1 div.sk-label input.sk-toggleable__control:checked~label.sk-toggleable__label {\n  color: var(--sklearn-color-text);\n  background-color: var(--sklearn-color-unfitted-level-2);\n}\n\n#sk-container-id-1 div.sk-label.fitted input.sk-toggleable__control:checked~label.sk-toggleable__label {\n  background-color: var(--sklearn-color-fitted-level-2);\n}\n\n/* Estimator-specific style */\n\n/* Colorize estimator box */\n#sk-container-id-1 div.sk-estimator input.sk-toggleable__control:checked~label.sk-toggleable__label {\n  /* unfitted */\n  background-color: var(--sklearn-color-unfitted-level-2);\n}\n\n#sk-container-id-1 div.sk-estimator.fitted input.sk-toggleable__control:checked~label.sk-toggleable__label {\n  /* fitted */\n  background-color: var(--sklearn-color-fitted-level-2);\n}\n\n#sk-container-id-1 div.sk-label label.sk-toggleable__label,\n#sk-container-id-1 div.sk-label label {\n  /* The background is the default theme color */\n  color: var(--sklearn-color-text-on-default-background);\n}\n\n/* On hover, darken the color of the background */\n#sk-container-id-1 div.sk-label:hover label.sk-toggleable__label {\n  color: var(--sklearn-color-text);\n  background-color: var(--sklearn-color-unfitted-level-2);\n}\n\n/* Label box, darken color on hover, fitted */\n#sk-container-id-1 div.sk-label.fitted:hover label.sk-toggleable__label.fitted {\n  color: var(--sklearn-color-text);\n  background-color: var(--sklearn-color-fitted-level-2);\n}\n\n/* Estimator label */\n\n#sk-container-id-1 div.sk-label label {\n  font-family: monospace;\n  font-weight: bold;\n  display: inline-block;\n  line-height: 1.2em;\n}\n\n#sk-container-id-1 div.sk-label-container {\n  text-align: center;\n}\n\n/* Estimator-specific */\n#sk-container-id-1 div.sk-estimator {\n  font-family: monospace;\n  border: 1px dotted var(--sklearn-color-border-box);\n  border-radius: 0.25em;\n  box-sizing: border-box;\n  margin-bottom: 0.5em;\n  /* unfitted */\n  background-color: var(--sklearn-color-unfitted-level-0);\n}\n\n#sk-container-id-1 div.sk-estimator.fitted {\n  /* fitted */\n  background-color: var(--sklearn-color-fitted-level-0);\n}\n\n/* on hover */\n#sk-container-id-1 div.sk-estimator:hover {\n  /* unfitted */\n  background-color: var(--sklearn-color-unfitted-level-2);\n}\n\n#sk-container-id-1 div.sk-estimator.fitted:hover {\n  /* fitted */\n  background-color: var(--sklearn-color-fitted-level-2);\n}\n\n/* Specification for estimator info (e.g. \"i\" and \"?\") */\n\n/* Common style for \"i\" and \"?\" */\n\n.sk-estimator-doc-link,\na:link.sk-estimator-doc-link,\na:visited.sk-estimator-doc-link {\n  float: right;\n  font-size: smaller;\n  line-height: 1em;\n  font-family: monospace;\n  background-color: var(--sklearn-color-background);\n  border-radius: 1em;\n  height: 1em;\n  width: 1em;\n  text-decoration: none !important;\n  margin-left: 1ex;\n  /* unfitted */\n  border: var(--sklearn-color-unfitted-level-1) 1pt solid;\n  color: var(--sklearn-color-unfitted-level-1);\n}\n\n.sk-estimator-doc-link.fitted,\na:link.sk-estimator-doc-link.fitted,\na:visited.sk-estimator-doc-link.fitted {\n  /* fitted */\n  border: var(--sklearn-color-fitted-level-1) 1pt solid;\n  color: var(--sklearn-color-fitted-level-1);\n}\n\n/* On hover */\ndiv.sk-estimator:hover .sk-estimator-doc-link:hover,\n.sk-estimator-doc-link:hover,\ndiv.sk-label-container:hover .sk-estimator-doc-link:hover,\n.sk-estimator-doc-link:hover {\n  /* unfitted */\n  background-color: var(--sklearn-color-unfitted-level-3);\n  color: var(--sklearn-color-background);\n  text-decoration: none;\n}\n\ndiv.sk-estimator.fitted:hover .sk-estimator-doc-link.fitted:hover,\n.sk-estimator-doc-link.fitted:hover,\ndiv.sk-label-container:hover .sk-estimator-doc-link.fitted:hover,\n.sk-estimator-doc-link.fitted:hover {\n  /* fitted */\n  background-color: var(--sklearn-color-fitted-level-3);\n  color: var(--sklearn-color-background);\n  text-decoration: none;\n}\n\n/* Span, style for the box shown on hovering the info icon */\n.sk-estimator-doc-link span {\n  display: none;\n  z-index: 9999;\n  position: relative;\n  font-weight: normal;\n  right: .2ex;\n  padding: .5ex;\n  margin: .5ex;\n  width: min-content;\n  min-width: 20ex;\n  max-width: 50ex;\n  color: var(--sklearn-color-text);\n  box-shadow: 2pt 2pt 4pt #999;\n  /* unfitted */\n  background: var(--sklearn-color-unfitted-level-0);\n  border: .5pt solid var(--sklearn-color-unfitted-level-3);\n}\n\n.sk-estimator-doc-link.fitted span {\n  /* fitted */\n  background: var(--sklearn-color-fitted-level-0);\n  border: var(--sklearn-color-fitted-level-3);\n}\n\n.sk-estimator-doc-link:hover span {\n  display: block;\n}\n\n/* \"?\"-specific style due to the `<a>` HTML tag */\n\n#sk-container-id-1 a.estimator_doc_link {\n  float: right;\n  font-size: 1rem;\n  line-height: 1em;\n  font-family: monospace;\n  background-color: var(--sklearn-color-background);\n  border-radius: 1rem;\n  height: 1rem;\n  width: 1rem;\n  text-decoration: none;\n  /* unfitted */\n  color: var(--sklearn-color-unfitted-level-1);\n  border: var(--sklearn-color-unfitted-level-1) 1pt solid;\n}\n\n#sk-container-id-1 a.estimator_doc_link.fitted {\n  /* fitted */\n  border: var(--sklearn-color-fitted-level-1) 1pt solid;\n  color: var(--sklearn-color-fitted-level-1);\n}\n\n/* On hover */\n#sk-container-id-1 a.estimator_doc_link:hover {\n  /* unfitted */\n  background-color: var(--sklearn-color-unfitted-level-3);\n  color: var(--sklearn-color-background);\n  text-decoration: none;\n}\n\n#sk-container-id-1 a.estimator_doc_link.fitted:hover {\n  /* fitted */\n  background-color: var(--sklearn-color-fitted-level-3);\n}\n</style><div id=\"sk-container-id-1\" class=\"sk-top-container\"><div class=\"sk-text-repr-fallback\"><pre>RandomForestClassifier(bootstrap=False, max_features=&#x27;log2&#x27;, n_estimators=500,\n                       random_state=42)</pre><b>In a Jupyter environment, please rerun this cell to show the HTML representation or trust the notebook. <br />On GitHub, the HTML representation is unable to render, please try loading this page with nbviewer.org.</b></div><div class=\"sk-container\" hidden><div class=\"sk-item\"><div class=\"sk-estimator fitted sk-toggleable\"><input class=\"sk-toggleable__control sk-hidden--visually\" id=\"sk-estimator-id-1\" type=\"checkbox\" checked><label for=\"sk-estimator-id-1\" class=\"sk-toggleable__label fitted sk-toggleable__label-arrow fitted\">&nbsp;&nbsp;RandomForestClassifier<a class=\"sk-estimator-doc-link fitted\" rel=\"noreferrer\" target=\"_blank\" href=\"https://scikit-learn.org/1.4/modules/generated/sklearn.ensemble.RandomForestClassifier.html\">?<span>Documentation for RandomForestClassifier</span></a><span class=\"sk-estimator-doc-link fitted\">i<span>Fitted</span></span></label><div class=\"sk-toggleable__content fitted\"><pre>RandomForestClassifier(bootstrap=False, max_features=&#x27;log2&#x27;, n_estimators=500,\n                       random_state=42)</pre></div> </div></div></div></div>"
     },
     "execution_count": 20,
     "metadata": {},
     "output_type": "execute_result"
    }
   ],
   "source": [
    "model_best.fit(X, y)"
   ],
   "metadata": {
    "collapsed": false,
    "ExecuteTime": {
     "end_time": "2024-02-06T02:48:59.237615Z",
     "start_time": "2024-02-06T02:48:02.836197200Z"
    }
   },
   "id": "6e9e6d462c39d27"
  },
  {
   "cell_type": "code",
   "execution_count": 21,
   "outputs": [],
   "source": [
    "y_testdata_name = test_data['user_word']\n",
    "X_testdata = test_data.drop(['user_word'], axis=1)"
   ],
   "metadata": {
    "collapsed": false,
    "ExecuteTime": {
     "end_time": "2024-02-06T02:48:59.315832300Z",
     "start_time": "2024-02-06T02:48:59.304467200Z"
    }
   },
   "id": "82b0338c41531a07"
  },
  {
   "cell_type": "code",
   "execution_count": 22,
   "outputs": [],
   "source": [
    "y_pred = model_best.predict(X_testdata)"
   ],
   "metadata": {
    "collapsed": false,
    "ExecuteTime": {
     "end_time": "2024-02-06T02:49:01.986915Z",
     "start_time": "2024-02-06T02:48:59.324841500Z"
    }
   },
   "id": "70580da4fb9096e9"
  },
  {
   "cell_type": "code",
   "execution_count": 23,
   "outputs": [],
   "source": [
    "result = pd.DataFrame({'user_word': y_testdata_name, 'preds': y_pred})\n",
    "submit  = result.groupby('user_word')['preds'].apply(lambda x: x.mode().iloc[0])"
   ],
   "metadata": {
    "collapsed": false,
    "ExecuteTime": {
     "end_time": "2024-02-06T02:49:02.033309900Z",
     "start_time": "2024-02-06T02:49:01.999912200Z"
    }
   },
   "id": "e6a5db982ba0593"
  },
  {
   "cell_type": "code",
   "execution_count": 24,
   "outputs": [],
   "source": [
    "def get_key(my_dict, value):\n",
    "    for key, val in my_dict.items():\n",
    "        if val == value:\n",
    "            return key\n",
    "    return None\n",
    "\n",
    "def most_frequent_word(words, word_id_frq, word_id, id):\n",
    "    frequency = {}\n",
    "    for element in words:\n",
    "        if element in frequency:\n",
    "            frequency[element] += 1\n",
    "        else:\n",
    "            frequency[element] = 1\n",
    "    frequency = dict(sorted(frequency.items(), key=lambda x: x[1], reverse=True))\n",
    "    for key, value in frequency.items():\n",
    "        word = get_key(word_id, id)\n",
    "        if word:\n",
    "            id_frq = word_id_frq[word]\n",
    "        else:\n",
    "            id_frq = 0\n",
    "        if value>word_id_frq[key] and value>id_frq:\n",
    "            word_id[key] = id\n",
    "            word_id_frq[key] = value\n",
    "    return word_id, word_id_frq\n",
    "    "
   ],
   "metadata": {
    "collapsed": false,
    "ExecuteTime": {
     "end_time": "2024-02-06T02:49:02.034861600Z",
     "start_time": "2024-02-06T02:49:02.018366300Z"
    }
   },
   "id": "2e4014dc4a4d6d0"
  },
  {
   "cell_type": "code",
   "execution_count": 25,
   "outputs": [],
   "source": [
    "unique_words = result['user_word'].unique()\n",
    "unique_ids = result['preds'].unique()\n",
    "word_id = {K: -999 for K in unique_words}\n",
    "word_id_frq = {K: 0 for K in unique_words}\n",
    "bad_ids = [30, 52, 44]\n",
    "for id in unique_ids:\n",
    "    if id not in bad_ids:\n",
    "        words = result[result['preds'] == id]['user_word'].tolist()\n",
    "        word_id, word_id_frq = most_frequent_word(words, word_id_frq, word_id, id)"
   ],
   "metadata": {
    "collapsed": false,
    "ExecuteTime": {
     "end_time": "2024-02-06T02:49:02.090424800Z",
     "start_time": "2024-02-06T02:49:02.036533900Z"
    }
   },
   "id": "b39bbc40938e89a"
  },
  {
   "cell_type": "markdown",
   "source": [
    "Применение алгоритма постобработки результатов предсказаний на тестовой выборке позволило поднять результат с изначальных 103 баллов (при использовании моды предсказаний id для каждого слова)  до 126 баллов. Алгоритм основан на том, что для каждого id из предсказанных определяется самое частое имя пользователя, которому присваивается этот id. Алгоритм так же устраняет повторы одного id к разным словам. Кроме того, по confusion matrix я получил точность предсказаний по каждому id на валидации. Исключение тех id, для которых модель не смогла обучиться, из формирования ответа позволило поднять результат с 206 баллов (после подбора гиперпараметров) до 254 баллов, что стало моим максимальным результатом при использовании лишь одного алгоритма"
   ],
   "metadata": {
    "collapsed": false
   },
   "id": "5e30f2add499a3a8"
  },
  {
   "cell_type": "code",
   "execution_count": 26,
   "outputs": [
    {
     "name": "stdout",
     "output_type": "stream",
     "text": [
      "{'gini': 15, 'epsilon': 1, 'fit': 7, 'recall': 3, 'linear': 17, 'target': -999, 'significant': 47, 'ols': 11, 'f1': 6, 'loss': 19, 'binary': 12, 'minimization': 48, 'pvalue': 32, 'collinear': 33, 'predict': 39, 'blue': -999, 'lasso': -999, 'residual': 27, 'logistic': -999, 'categorical': 14, 'independent': 0, 'aucroc': 24, 'sigmoid': 55, 'x': 29, 'matrix': 54, 'distributed': 57, 'mse': 43, 'ridge': 35, 'r2': 9, 'tstat': 50, 'coefficient': 26, 'regression': -999, 'y': -999, 'precision': 40}\n"
     ]
    }
   ],
   "source": [
    "print(word_id)"
   ],
   "metadata": {
    "collapsed": false,
    "ExecuteTime": {
     "end_time": "2024-02-06T02:49:02.091614400Z",
     "start_time": "2024-02-06T02:49:02.068350300Z"
    }
   },
   "id": "107b7942991a5c51"
  },
  {
   "cell_type": "code",
   "execution_count": 27,
   "outputs": [
    {
     "data": {
      "text/plain": "       user_word  preds\n21        aucroc     24\n10        binary     12\n15          blue   -999\n19   categorical     14\n30   coefficient     26\n13     collinear     33\n25   distributed     57\n1        epsilon      1\n8             f1      6\n2            fit      7\n0           gini     15\n20   independent      0\n16         lasso   -999\n4         linear     17\n18      logistic   -999\n9           loss     19\n24        matrix     54\n11  minimization     48\n26           mse     43\n7            ols     11\n33     precision     40\n14       predict     39\n12        pvalue     32\n28            r2      9\n3         recall      3\n31    regression   -999\n17      residual     27\n27         ridge     35\n22       sigmoid     55\n6    significant     47\n5         target   -999\n29         tstat     50\n23             x     29\n32             y   -999",
      "text/html": "<div>\n<style scoped>\n    .dataframe tbody tr th:only-of-type {\n        vertical-align: middle;\n    }\n\n    .dataframe tbody tr th {\n        vertical-align: top;\n    }\n\n    .dataframe thead th {\n        text-align: right;\n    }\n</style>\n<table border=\"1\" class=\"dataframe\">\n  <thead>\n    <tr style=\"text-align: right;\">\n      <th></th>\n      <th>user_word</th>\n      <th>preds</th>\n    </tr>\n  </thead>\n  <tbody>\n    <tr>\n      <th>21</th>\n      <td>aucroc</td>\n      <td>24</td>\n    </tr>\n    <tr>\n      <th>10</th>\n      <td>binary</td>\n      <td>12</td>\n    </tr>\n    <tr>\n      <th>15</th>\n      <td>blue</td>\n      <td>-999</td>\n    </tr>\n    <tr>\n      <th>19</th>\n      <td>categorical</td>\n      <td>14</td>\n    </tr>\n    <tr>\n      <th>30</th>\n      <td>coefficient</td>\n      <td>26</td>\n    </tr>\n    <tr>\n      <th>13</th>\n      <td>collinear</td>\n      <td>33</td>\n    </tr>\n    <tr>\n      <th>25</th>\n      <td>distributed</td>\n      <td>57</td>\n    </tr>\n    <tr>\n      <th>1</th>\n      <td>epsilon</td>\n      <td>1</td>\n    </tr>\n    <tr>\n      <th>8</th>\n      <td>f1</td>\n      <td>6</td>\n    </tr>\n    <tr>\n      <th>2</th>\n      <td>fit</td>\n      <td>7</td>\n    </tr>\n    <tr>\n      <th>0</th>\n      <td>gini</td>\n      <td>15</td>\n    </tr>\n    <tr>\n      <th>20</th>\n      <td>independent</td>\n      <td>0</td>\n    </tr>\n    <tr>\n      <th>16</th>\n      <td>lasso</td>\n      <td>-999</td>\n    </tr>\n    <tr>\n      <th>4</th>\n      <td>linear</td>\n      <td>17</td>\n    </tr>\n    <tr>\n      <th>18</th>\n      <td>logistic</td>\n      <td>-999</td>\n    </tr>\n    <tr>\n      <th>9</th>\n      <td>loss</td>\n      <td>19</td>\n    </tr>\n    <tr>\n      <th>24</th>\n      <td>matrix</td>\n      <td>54</td>\n    </tr>\n    <tr>\n      <th>11</th>\n      <td>minimization</td>\n      <td>48</td>\n    </tr>\n    <tr>\n      <th>26</th>\n      <td>mse</td>\n      <td>43</td>\n    </tr>\n    <tr>\n      <th>7</th>\n      <td>ols</td>\n      <td>11</td>\n    </tr>\n    <tr>\n      <th>33</th>\n      <td>precision</td>\n      <td>40</td>\n    </tr>\n    <tr>\n      <th>14</th>\n      <td>predict</td>\n      <td>39</td>\n    </tr>\n    <tr>\n      <th>12</th>\n      <td>pvalue</td>\n      <td>32</td>\n    </tr>\n    <tr>\n      <th>28</th>\n      <td>r2</td>\n      <td>9</td>\n    </tr>\n    <tr>\n      <th>3</th>\n      <td>recall</td>\n      <td>3</td>\n    </tr>\n    <tr>\n      <th>31</th>\n      <td>regression</td>\n      <td>-999</td>\n    </tr>\n    <tr>\n      <th>17</th>\n      <td>residual</td>\n      <td>27</td>\n    </tr>\n    <tr>\n      <th>27</th>\n      <td>ridge</td>\n      <td>35</td>\n    </tr>\n    <tr>\n      <th>22</th>\n      <td>sigmoid</td>\n      <td>55</td>\n    </tr>\n    <tr>\n      <th>6</th>\n      <td>significant</td>\n      <td>47</td>\n    </tr>\n    <tr>\n      <th>5</th>\n      <td>target</td>\n      <td>-999</td>\n    </tr>\n    <tr>\n      <th>29</th>\n      <td>tstat</td>\n      <td>50</td>\n    </tr>\n    <tr>\n      <th>23</th>\n      <td>x</td>\n      <td>29</td>\n    </tr>\n    <tr>\n      <th>32</th>\n      <td>y</td>\n      <td>-999</td>\n    </tr>\n  </tbody>\n</table>\n</div>"
     },
     "execution_count": 27,
     "metadata": {},
     "output_type": "execute_result"
    }
   ],
   "source": [
    "submit = pd.DataFrame(word_id.items(), columns=['user_word', 'preds'])\n",
    "submit = submit.sort_values(by='user_word')\n",
    "submit"
   ],
   "metadata": {
    "collapsed": false,
    "ExecuteTime": {
     "end_time": "2024-02-06T02:49:02.126878500Z",
     "start_time": "2024-02-06T02:49:02.077787500Z"
    }
   },
   "id": "54ca6dbd5731ab61"
  },
  {
   "cell_type": "code",
   "execution_count": 28,
   "outputs": [],
   "source": [
    "result_mode  = result.groupby('user_word')['preds'].apply(lambda x: x.mode().iloc[0])"
   ],
   "metadata": {
    "collapsed": false,
    "ExecuteTime": {
     "end_time": "2024-02-06T02:49:02.201865100Z",
     "start_time": "2024-02-06T02:49:02.107057300Z"
    }
   },
   "id": "692810022f537c31"
  },
  {
   "cell_type": "markdown",
   "source": [
    "Предсказание по моде выдает 103 балла. Сейчас оно оставлено для дальнейшего использования при построении итогового решения голосованием различных алгоритмов. Решение по моде помогает сбалансировать голосование, так как основной ответ первого алгоритма и ответ по моде выдает одинаковый результат лишь тогда, когда первый алгоритм сильно \"уверен\" в правильности предсказания. Это позволяет сбалансировать ошибки второго алгоритма (который рассмотрен в дальнейшем)"
   ],
   "metadata": {
    "collapsed": false
   },
   "id": "86ebc4d5fc1134eb"
  },
  {
   "cell_type": "code",
   "execution_count": 29,
   "outputs": [
    {
     "data": {
      "text/plain": "       user_word  preds_x  preds_y\n0         aucroc       24       49\n1         binary       12       12\n2           blue     -999       14\n3    categorical       14       37\n4    coefficient       26       15\n5      collinear       33       33\n6    distributed       57       55\n7        epsilon        1        1\n8             f1        6        6\n9            fit        7        1\n10          gini       15       15\n11   independent        0        1\n12         lasso     -999       37\n13        linear       17       17\n14      logistic     -999       37\n15          loss       19       19\n16        matrix       54       55\n17  minimization       48       48\n18           mse       43       37\n19           ols       11       37\n20     precision       40       37\n21       predict       39       37\n22        pvalue       32       32\n23            r2        9       32\n24        recall        3        3\n25    regression     -999        6\n26      residual       27       55\n27         ridge       35       12\n28       sigmoid       55       55\n29   significant       47       37\n30        target     -999       37\n31         tstat       50       37\n32             x       29       18\n33             y     -999       37",
      "text/html": "<div>\n<style scoped>\n    .dataframe tbody tr th:only-of-type {\n        vertical-align: middle;\n    }\n\n    .dataframe tbody tr th {\n        vertical-align: top;\n    }\n\n    .dataframe thead th {\n        text-align: right;\n    }\n</style>\n<table border=\"1\" class=\"dataframe\">\n  <thead>\n    <tr style=\"text-align: right;\">\n      <th></th>\n      <th>user_word</th>\n      <th>preds_x</th>\n      <th>preds_y</th>\n    </tr>\n  </thead>\n  <tbody>\n    <tr>\n      <th>0</th>\n      <td>aucroc</td>\n      <td>24</td>\n      <td>49</td>\n    </tr>\n    <tr>\n      <th>1</th>\n      <td>binary</td>\n      <td>12</td>\n      <td>12</td>\n    </tr>\n    <tr>\n      <th>2</th>\n      <td>blue</td>\n      <td>-999</td>\n      <td>14</td>\n    </tr>\n    <tr>\n      <th>3</th>\n      <td>categorical</td>\n      <td>14</td>\n      <td>37</td>\n    </tr>\n    <tr>\n      <th>4</th>\n      <td>coefficient</td>\n      <td>26</td>\n      <td>15</td>\n    </tr>\n    <tr>\n      <th>5</th>\n      <td>collinear</td>\n      <td>33</td>\n      <td>33</td>\n    </tr>\n    <tr>\n      <th>6</th>\n      <td>distributed</td>\n      <td>57</td>\n      <td>55</td>\n    </tr>\n    <tr>\n      <th>7</th>\n      <td>epsilon</td>\n      <td>1</td>\n      <td>1</td>\n    </tr>\n    <tr>\n      <th>8</th>\n      <td>f1</td>\n      <td>6</td>\n      <td>6</td>\n    </tr>\n    <tr>\n      <th>9</th>\n      <td>fit</td>\n      <td>7</td>\n      <td>1</td>\n    </tr>\n    <tr>\n      <th>10</th>\n      <td>gini</td>\n      <td>15</td>\n      <td>15</td>\n    </tr>\n    <tr>\n      <th>11</th>\n      <td>independent</td>\n      <td>0</td>\n      <td>1</td>\n    </tr>\n    <tr>\n      <th>12</th>\n      <td>lasso</td>\n      <td>-999</td>\n      <td>37</td>\n    </tr>\n    <tr>\n      <th>13</th>\n      <td>linear</td>\n      <td>17</td>\n      <td>17</td>\n    </tr>\n    <tr>\n      <th>14</th>\n      <td>logistic</td>\n      <td>-999</td>\n      <td>37</td>\n    </tr>\n    <tr>\n      <th>15</th>\n      <td>loss</td>\n      <td>19</td>\n      <td>19</td>\n    </tr>\n    <tr>\n      <th>16</th>\n      <td>matrix</td>\n      <td>54</td>\n      <td>55</td>\n    </tr>\n    <tr>\n      <th>17</th>\n      <td>minimization</td>\n      <td>48</td>\n      <td>48</td>\n    </tr>\n    <tr>\n      <th>18</th>\n      <td>mse</td>\n      <td>43</td>\n      <td>37</td>\n    </tr>\n    <tr>\n      <th>19</th>\n      <td>ols</td>\n      <td>11</td>\n      <td>37</td>\n    </tr>\n    <tr>\n      <th>20</th>\n      <td>precision</td>\n      <td>40</td>\n      <td>37</td>\n    </tr>\n    <tr>\n      <th>21</th>\n      <td>predict</td>\n      <td>39</td>\n      <td>37</td>\n    </tr>\n    <tr>\n      <th>22</th>\n      <td>pvalue</td>\n      <td>32</td>\n      <td>32</td>\n    </tr>\n    <tr>\n      <th>23</th>\n      <td>r2</td>\n      <td>9</td>\n      <td>32</td>\n    </tr>\n    <tr>\n      <th>24</th>\n      <td>recall</td>\n      <td>3</td>\n      <td>3</td>\n    </tr>\n    <tr>\n      <th>25</th>\n      <td>regression</td>\n      <td>-999</td>\n      <td>6</td>\n    </tr>\n    <tr>\n      <th>26</th>\n      <td>residual</td>\n      <td>27</td>\n      <td>55</td>\n    </tr>\n    <tr>\n      <th>27</th>\n      <td>ridge</td>\n      <td>35</td>\n      <td>12</td>\n    </tr>\n    <tr>\n      <th>28</th>\n      <td>sigmoid</td>\n      <td>55</td>\n      <td>55</td>\n    </tr>\n    <tr>\n      <th>29</th>\n      <td>significant</td>\n      <td>47</td>\n      <td>37</td>\n    </tr>\n    <tr>\n      <th>30</th>\n      <td>target</td>\n      <td>-999</td>\n      <td>37</td>\n    </tr>\n    <tr>\n      <th>31</th>\n      <td>tstat</td>\n      <td>50</td>\n      <td>37</td>\n    </tr>\n    <tr>\n      <th>32</th>\n      <td>x</td>\n      <td>29</td>\n      <td>18</td>\n    </tr>\n    <tr>\n      <th>33</th>\n      <td>y</td>\n      <td>-999</td>\n      <td>37</td>\n    </tr>\n  </tbody>\n</table>\n</div>"
     },
     "execution_count": 29,
     "metadata": {},
     "output_type": "execute_result"
    }
   ],
   "source": [
    "final_submit = submit\n",
    "final_submit = final_submit.reset_index(drop=True)\n",
    "final_submit = final_submit.merge(result_mode, how='left', on='user_word')\n",
    "final_submit"
   ],
   "metadata": {
    "collapsed": false,
    "ExecuteTime": {
     "end_time": "2024-02-06T02:49:02.246922900Z",
     "start_time": "2024-02-06T02:49:02.131865400Z"
    }
   },
   "id": "83fe2267a24e44d3"
  },
  {
   "cell_type": "markdown",
   "source": [
    "# Решение 2\n",
    "Решение на основе RandomForestClassifier с дополнительными признаками, набирает 250 баллов. К записям помимо признаков из первого алгоритма добавляются: минуты с начала дня, секунды с начала дня, является ли день выходным. Также добавляется информация о 5 предыдущих и 4 следующих турникетах, через которые прошел человек и время прохода между ними. К столбцам с пройденными турникетами добавляется векторизация, выявляющая наличие определенных последовательностей пройденных турникетов"
   ],
   "metadata": {
    "collapsed": false
   },
   "id": "eb77fc5b2aa924c1"
  },
  {
   "cell_type": "code",
   "execution_count": 30,
   "outputs": [],
   "source": [
    "train_df = pd.read_csv(\"train.csv\")\n",
    "test_df = pd.read_csv(\"test.csv\")"
   ],
   "metadata": {
    "collapsed": false,
    "ExecuteTime": {
     "end_time": "2024-02-06T02:49:02.402898Z",
     "start_time": "2024-02-06T02:49:02.143973800Z"
    }
   },
   "id": "bfa30d42ab24c2b2"
  },
  {
   "cell_type": "code",
   "execution_count": 31,
   "outputs": [],
   "source": [
    "def one_hot_and_vectorize(train, test):\n",
    "    df = pd.concat([train, test], axis=0, ignore_index=True)\n",
    "\n",
    "    columns_encode = ['hour','gate_id', 'dayweek']\n",
    "    encoder = OneHotEncoder()\n",
    "    encoded_features = pd.DataFrame(encoder.fit_transform(df[columns_encode]).toarray(), columns=encoder.get_feature_names_out(columns_encode))\n",
    "    df = pd.concat([df, encoded_features], axis=1)\n",
    "    df = df.drop(columns_encode, axis=1)\n",
    "\n",
    "    gate_columns = []\n",
    "    for i in range (-5, 6):\n",
    "        if i!=0:\n",
    "            gate_columns.append('gate_'+str(i))\n",
    "    for column in gate_columns:\n",
    "        df[column] = df[column].astype('int64')\n",
    "        vectorizer = CountVectorizer(ngram_range=(1, 2))\n",
    "        df[column] = df[column].astype(str)\n",
    "        vectorized_data = vectorizer.fit_transform(df[column])\n",
    "        df_vectorized = pd.DataFrame(vectorized_data.toarray(), columns=vectorizer.get_feature_names_out(column))\n",
    "        df = pd.concat([df, df_vectorized], axis=1)\n",
    "\n",
    "    X = df[df['user_word'].isna()]\n",
    "    y = df[df['user_id'].isna()]\n",
    "    X = X.drop(['user_word'], axis=1)\n",
    "    X['user_id'] = X['user_id'].astype('int64')\n",
    "    y = y.drop(['user_id'], axis=1)\n",
    "    y_columns = y.columns.tolist()\n",
    "    y_columns.remove('user_word')\n",
    "    X = X.astype('int64')\n",
    "    return X, y\n",
    "\n",
    "def preprocess(df, is_test = False):\n",
    "    df = df.drop(['Unnamed: 0'], axis=1)\n",
    "    df['ts'] = pd.to_datetime(df['ts'])\n",
    "    df = df.sort_values(by='ts')\n",
    "    df['hour'] = df['ts'].dt.hour\n",
    "    df['dayweek'] = df['ts'].dt.dayofweek\n",
    "    df['month'] = df['ts'].dt.month\n",
    "    df['minute'] = df['ts'].dt.minute\n",
    "    df['second'] = df['ts'].dt.second\n",
    "    df['day'] = df['ts'].dt.day\n",
    "    df['minute_from_start'] = df['hour']*60 + df['minute']\n",
    "    df['seconds_from_start'] = df['minute_from_start']*60 + df['second']\n",
    "    df['weekend'] = (df['dayweek'] // 5 == 1).astype(int)\n",
    "    df = df.drop(['ts'], axis=1)\n",
    "\n",
    "    if is_test:\n",
    "        user_col = 'user_word'\n",
    "    else:\n",
    "        user_col = 'user_id'\n",
    "    count_ts = 0\n",
    "    for i in range (-5, 6):\n",
    "        if i!=0:\n",
    "            df['gate_'+str(i)] = df.groupby(user_col)['gate_id'].shift(i)\n",
    "            df['gate_'+str(i)].fillna(-2, inplace=True)\n",
    "            df['gate_'+str(i)] = df['gate_'+str(i)].astype('int64')\n",
    "        if i>-5:\n",
    "            df['ts_'+str(count_ts)] = np.abs(df.groupby(user_col)['seconds_from_start'].shift(i-1) - df.groupby(user_col)['seconds_from_start'].shift(i))\n",
    "\n",
    "            df['ts_'+str(count_ts)].fillna(-1, inplace=True)\n",
    "            df['ts_'+str(count_ts)] = df['ts_'+str(count_ts)].astype('int64')\n",
    "            count_ts+=1\n",
    "    return df"
   ],
   "metadata": {
    "collapsed": false,
    "ExecuteTime": {
     "end_time": "2024-02-06T02:49:02.408881600Z",
     "start_time": "2024-02-06T02:49:02.263812900Z"
    }
   },
   "id": "57de08491e1944e3"
  },
  {
   "cell_type": "code",
   "execution_count": 32,
   "outputs": [
    {
     "data": {
      "text/plain": "   user_id  month  minute  second  day  minute_from_start  seconds_from_start  \\\n0       18      7       8      54   29                548               32934   \n1       18      7       9      54   29                549               32994   \n2       18      7       9      54   29                549               32994   \n3       18      7      10       6   29                550               33006   \n4       18      7      10       8   29                550               33008   \n\n   weekend  gate_-5  gate_-4  ...  14  15  16  10  11  12  13  14  15  16  \n0        0       10        5  ...   0   0   0   0   0   0   0   0   0   0  \n1        0       11       10  ...   0   0   0   0   0   0   0   0   0   0  \n2        0        4       11  ...   0   0   0   0   0   0   0   0   0   0  \n3        0        4        4  ...   0   0   0   0   0   0   0   0   0   0  \n4        0        9        4  ...   0   0   0   0   0   0   0   0   0   0  \n\n[5 rows x 144 columns]",
      "text/html": "<div>\n<style scoped>\n    .dataframe tbody tr th:only-of-type {\n        vertical-align: middle;\n    }\n\n    .dataframe tbody tr th {\n        vertical-align: top;\n    }\n\n    .dataframe thead th {\n        text-align: right;\n    }\n</style>\n<table border=\"1\" class=\"dataframe\">\n  <thead>\n    <tr style=\"text-align: right;\">\n      <th></th>\n      <th>user_id</th>\n      <th>month</th>\n      <th>minute</th>\n      <th>second</th>\n      <th>day</th>\n      <th>minute_from_start</th>\n      <th>seconds_from_start</th>\n      <th>weekend</th>\n      <th>gate_-5</th>\n      <th>gate_-4</th>\n      <th>...</th>\n      <th>14</th>\n      <th>15</th>\n      <th>16</th>\n      <th>10</th>\n      <th>11</th>\n      <th>12</th>\n      <th>13</th>\n      <th>14</th>\n      <th>15</th>\n      <th>16</th>\n    </tr>\n  </thead>\n  <tbody>\n    <tr>\n      <th>0</th>\n      <td>18</td>\n      <td>7</td>\n      <td>8</td>\n      <td>54</td>\n      <td>29</td>\n      <td>548</td>\n      <td>32934</td>\n      <td>0</td>\n      <td>10</td>\n      <td>5</td>\n      <td>...</td>\n      <td>0</td>\n      <td>0</td>\n      <td>0</td>\n      <td>0</td>\n      <td>0</td>\n      <td>0</td>\n      <td>0</td>\n      <td>0</td>\n      <td>0</td>\n      <td>0</td>\n    </tr>\n    <tr>\n      <th>1</th>\n      <td>18</td>\n      <td>7</td>\n      <td>9</td>\n      <td>54</td>\n      <td>29</td>\n      <td>549</td>\n      <td>32994</td>\n      <td>0</td>\n      <td>11</td>\n      <td>10</td>\n      <td>...</td>\n      <td>0</td>\n      <td>0</td>\n      <td>0</td>\n      <td>0</td>\n      <td>0</td>\n      <td>0</td>\n      <td>0</td>\n      <td>0</td>\n      <td>0</td>\n      <td>0</td>\n    </tr>\n    <tr>\n      <th>2</th>\n      <td>18</td>\n      <td>7</td>\n      <td>9</td>\n      <td>54</td>\n      <td>29</td>\n      <td>549</td>\n      <td>32994</td>\n      <td>0</td>\n      <td>4</td>\n      <td>11</td>\n      <td>...</td>\n      <td>0</td>\n      <td>0</td>\n      <td>0</td>\n      <td>0</td>\n      <td>0</td>\n      <td>0</td>\n      <td>0</td>\n      <td>0</td>\n      <td>0</td>\n      <td>0</td>\n    </tr>\n    <tr>\n      <th>3</th>\n      <td>18</td>\n      <td>7</td>\n      <td>10</td>\n      <td>6</td>\n      <td>29</td>\n      <td>550</td>\n      <td>33006</td>\n      <td>0</td>\n      <td>4</td>\n      <td>4</td>\n      <td>...</td>\n      <td>0</td>\n      <td>0</td>\n      <td>0</td>\n      <td>0</td>\n      <td>0</td>\n      <td>0</td>\n      <td>0</td>\n      <td>0</td>\n      <td>0</td>\n      <td>0</td>\n    </tr>\n    <tr>\n      <th>4</th>\n      <td>18</td>\n      <td>7</td>\n      <td>10</td>\n      <td>8</td>\n      <td>29</td>\n      <td>550</td>\n      <td>33008</td>\n      <td>0</td>\n      <td>9</td>\n      <td>4</td>\n      <td>...</td>\n      <td>0</td>\n      <td>0</td>\n      <td>0</td>\n      <td>0</td>\n      <td>0</td>\n      <td>0</td>\n      <td>0</td>\n      <td>0</td>\n      <td>0</td>\n      <td>0</td>\n    </tr>\n  </tbody>\n</table>\n<p>5 rows × 144 columns</p>\n</div>"
     },
     "execution_count": 32,
     "metadata": {},
     "output_type": "execute_result"
    }
   ],
   "source": [
    "train_df = preprocess(train_df)\n",
    "test_df = preprocess(test_df, is_test=True)\n",
    "\n",
    "train_data, test_data = one_hot_and_vectorize(train_df, test_df)\n",
    "train_data.head()"
   ],
   "metadata": {
    "collapsed": false,
    "ExecuteTime": {
     "end_time": "2024-02-06T02:49:05.427523200Z",
     "start_time": "2024-02-06T02:49:02.271129500Z"
    }
   },
   "id": "3db673d94ea36037"
  },
  {
   "cell_type": "code",
   "execution_count": 33,
   "outputs": [
    {
     "data": {
      "text/plain": "       month  minute  second  day  minute_from_start  seconds_from_start  \\\n37518      1      21       0    3                501               30060   \n37519      1      21       0    3                501               30060   \n37520      1      21      18    3                501               30078   \n37521      1      21      19    3                501               30079   \n37522      1      21      39    3                501               30099   \n\n       weekend gate_-5 gate_-4  ts_0  ... 14  15 16  10 11  12  13 14  15 16  \n37518        0      11      10  8753  ...  0   0  0   0  0   0   0  0   0  0  \n37519        0       4      11    21  ...  0   0  0   0  0   0   0  0   0  0  \n37520        0       4       4     2  ...  0   0  0   0  0   0   0  0   0  0  \n37521        0       9       4     6  ...  0   0  0   0  0   0   0  0   0  0  \n37522        0       9       9     0  ...  0   0  0   0  0   0   0  0   0  0  \n\n[5 rows x 144 columns]",
      "text/html": "<div>\n<style scoped>\n    .dataframe tbody tr th:only-of-type {\n        vertical-align: middle;\n    }\n\n    .dataframe tbody tr th {\n        vertical-align: top;\n    }\n\n    .dataframe thead th {\n        text-align: right;\n    }\n</style>\n<table border=\"1\" class=\"dataframe\">\n  <thead>\n    <tr style=\"text-align: right;\">\n      <th></th>\n      <th>month</th>\n      <th>minute</th>\n      <th>second</th>\n      <th>day</th>\n      <th>minute_from_start</th>\n      <th>seconds_from_start</th>\n      <th>weekend</th>\n      <th>gate_-5</th>\n      <th>gate_-4</th>\n      <th>ts_0</th>\n      <th>...</th>\n      <th>14</th>\n      <th>15</th>\n      <th>16</th>\n      <th>10</th>\n      <th>11</th>\n      <th>12</th>\n      <th>13</th>\n      <th>14</th>\n      <th>15</th>\n      <th>16</th>\n    </tr>\n  </thead>\n  <tbody>\n    <tr>\n      <th>37518</th>\n      <td>1</td>\n      <td>21</td>\n      <td>0</td>\n      <td>3</td>\n      <td>501</td>\n      <td>30060</td>\n      <td>0</td>\n      <td>11</td>\n      <td>10</td>\n      <td>8753</td>\n      <td>...</td>\n      <td>0</td>\n      <td>0</td>\n      <td>0</td>\n      <td>0</td>\n      <td>0</td>\n      <td>0</td>\n      <td>0</td>\n      <td>0</td>\n      <td>0</td>\n      <td>0</td>\n    </tr>\n    <tr>\n      <th>37519</th>\n      <td>1</td>\n      <td>21</td>\n      <td>0</td>\n      <td>3</td>\n      <td>501</td>\n      <td>30060</td>\n      <td>0</td>\n      <td>4</td>\n      <td>11</td>\n      <td>21</td>\n      <td>...</td>\n      <td>0</td>\n      <td>0</td>\n      <td>0</td>\n      <td>0</td>\n      <td>0</td>\n      <td>0</td>\n      <td>0</td>\n      <td>0</td>\n      <td>0</td>\n      <td>0</td>\n    </tr>\n    <tr>\n      <th>37520</th>\n      <td>1</td>\n      <td>21</td>\n      <td>18</td>\n      <td>3</td>\n      <td>501</td>\n      <td>30078</td>\n      <td>0</td>\n      <td>4</td>\n      <td>4</td>\n      <td>2</td>\n      <td>...</td>\n      <td>0</td>\n      <td>0</td>\n      <td>0</td>\n      <td>0</td>\n      <td>0</td>\n      <td>0</td>\n      <td>0</td>\n      <td>0</td>\n      <td>0</td>\n      <td>0</td>\n    </tr>\n    <tr>\n      <th>37521</th>\n      <td>1</td>\n      <td>21</td>\n      <td>19</td>\n      <td>3</td>\n      <td>501</td>\n      <td>30079</td>\n      <td>0</td>\n      <td>9</td>\n      <td>4</td>\n      <td>6</td>\n      <td>...</td>\n      <td>0</td>\n      <td>0</td>\n      <td>0</td>\n      <td>0</td>\n      <td>0</td>\n      <td>0</td>\n      <td>0</td>\n      <td>0</td>\n      <td>0</td>\n      <td>0</td>\n    </tr>\n    <tr>\n      <th>37522</th>\n      <td>1</td>\n      <td>21</td>\n      <td>39</td>\n      <td>3</td>\n      <td>501</td>\n      <td>30099</td>\n      <td>0</td>\n      <td>9</td>\n      <td>9</td>\n      <td>0</td>\n      <td>...</td>\n      <td>0</td>\n      <td>0</td>\n      <td>0</td>\n      <td>0</td>\n      <td>0</td>\n      <td>0</td>\n      <td>0</td>\n      <td>0</td>\n      <td>0</td>\n      <td>0</td>\n    </tr>\n  </tbody>\n</table>\n<p>5 rows × 144 columns</p>\n</div>"
     },
     "execution_count": 33,
     "metadata": {},
     "output_type": "execute_result"
    }
   ],
   "source": [
    "test_data.head()"
   ],
   "metadata": {
    "collapsed": false,
    "ExecuteTime": {
     "end_time": "2024-02-06T02:49:05.499980500Z",
     "start_time": "2024-02-06T02:49:05.430517700Z"
    }
   },
   "id": "458bb5efbf5bac0f"
  },
  {
   "cell_type": "code",
   "execution_count": 34,
   "outputs": [
    {
     "data": {
      "text/plain": "(37518, 144)"
     },
     "execution_count": 34,
     "metadata": {},
     "output_type": "execute_result"
    }
   ],
   "source": [
    "train_data.shape"
   ],
   "metadata": {
    "collapsed": false,
    "ExecuteTime": {
     "end_time": "2024-02-06T02:49:05.503970Z",
     "start_time": "2024-02-06T02:49:05.456124900Z"
    }
   },
   "id": "6dcb88f742529d7"
  },
  {
   "cell_type": "code",
   "execution_count": 35,
   "outputs": [
    {
     "data": {
      "text/plain": "(7125, 144)"
     },
     "execution_count": 35,
     "metadata": {},
     "output_type": "execute_result"
    }
   ],
   "source": [
    "test_data.shape"
   ],
   "metadata": {
    "collapsed": false,
    "ExecuteTime": {
     "end_time": "2024-02-06T02:49:05.593634300Z",
     "start_time": "2024-02-06T02:49:05.468381100Z"
    }
   },
   "id": "7ad59a727e3065ca"
  },
  {
   "cell_type": "code",
   "execution_count": 36,
   "outputs": [],
   "source": [
    "model_best = RandomForestClassifier(random_state=42)"
   ],
   "metadata": {
    "collapsed": false,
    "ExecuteTime": {
     "end_time": "2024-02-06T02:49:05.594631700Z",
     "start_time": "2024-02-06T02:49:05.478137600Z"
    }
   },
   "id": "ae3b94ac84ad7543"
  },
  {
   "cell_type": "code",
   "execution_count": 37,
   "outputs": [],
   "source": [
    "y = train_data['user_id']\n",
    "X = train_data.drop(['user_id'], axis=1)"
   ],
   "metadata": {
    "collapsed": false,
    "ExecuteTime": {
     "end_time": "2024-02-06T02:49:05.655125800Z",
     "start_time": "2024-02-06T02:49:05.490007600Z"
    }
   },
   "id": "9cc0c9238c1f2663"
  },
  {
   "cell_type": "code",
   "execution_count": 38,
   "outputs": [
    {
     "data": {
      "text/plain": "RandomForestClassifier(random_state=42)",
      "text/html": "<style>#sk-container-id-2 {\n  /* Definition of color scheme common for light and dark mode */\n  --sklearn-color-text: black;\n  --sklearn-color-line: gray;\n  /* Definition of color scheme for unfitted estimators */\n  --sklearn-color-unfitted-level-0: #fff5e6;\n  --sklearn-color-unfitted-level-1: #f6e4d2;\n  --sklearn-color-unfitted-level-2: #ffe0b3;\n  --sklearn-color-unfitted-level-3: chocolate;\n  /* Definition of color scheme for fitted estimators */\n  --sklearn-color-fitted-level-0: #f0f8ff;\n  --sklearn-color-fitted-level-1: #d4ebff;\n  --sklearn-color-fitted-level-2: #b3dbfd;\n  --sklearn-color-fitted-level-3: cornflowerblue;\n\n  /* Specific color for light theme */\n  --sklearn-color-text-on-default-background: var(--sg-text-color, var(--theme-code-foreground, var(--jp-content-font-color1, black)));\n  --sklearn-color-background: var(--sg-background-color, var(--theme-background, var(--jp-layout-color0, white)));\n  --sklearn-color-border-box: var(--sg-text-color, var(--theme-code-foreground, var(--jp-content-font-color1, black)));\n  --sklearn-color-icon: #696969;\n\n  @media (prefers-color-scheme: dark) {\n    /* Redefinition of color scheme for dark theme */\n    --sklearn-color-text-on-default-background: var(--sg-text-color, var(--theme-code-foreground, var(--jp-content-font-color1, white)));\n    --sklearn-color-background: var(--sg-background-color, var(--theme-background, var(--jp-layout-color0, #111)));\n    --sklearn-color-border-box: var(--sg-text-color, var(--theme-code-foreground, var(--jp-content-font-color1, white)));\n    --sklearn-color-icon: #878787;\n  }\n}\n\n#sk-container-id-2 {\n  color: var(--sklearn-color-text);\n}\n\n#sk-container-id-2 pre {\n  padding: 0;\n}\n\n#sk-container-id-2 input.sk-hidden--visually {\n  border: 0;\n  clip: rect(1px 1px 1px 1px);\n  clip: rect(1px, 1px, 1px, 1px);\n  height: 1px;\n  margin: -1px;\n  overflow: hidden;\n  padding: 0;\n  position: absolute;\n  width: 1px;\n}\n\n#sk-container-id-2 div.sk-dashed-wrapped {\n  border: 1px dashed var(--sklearn-color-line);\n  margin: 0 0.4em 0.5em 0.4em;\n  box-sizing: border-box;\n  padding-bottom: 0.4em;\n  background-color: var(--sklearn-color-background);\n}\n\n#sk-container-id-2 div.sk-container {\n  /* jupyter's `normalize.less` sets `[hidden] { display: none; }`\n     but bootstrap.min.css set `[hidden] { display: none !important; }`\n     so we also need the `!important` here to be able to override the\n     default hidden behavior on the sphinx rendered scikit-learn.org.\n     See: https://github.com/scikit-learn/scikit-learn/issues/21755 */\n  display: inline-block !important;\n  position: relative;\n}\n\n#sk-container-id-2 div.sk-text-repr-fallback {\n  display: none;\n}\n\ndiv.sk-parallel-item,\ndiv.sk-serial,\ndiv.sk-item {\n  /* draw centered vertical line to link estimators */\n  background-image: linear-gradient(var(--sklearn-color-text-on-default-background), var(--sklearn-color-text-on-default-background));\n  background-size: 2px 100%;\n  background-repeat: no-repeat;\n  background-position: center center;\n}\n\n/* Parallel-specific style estimator block */\n\n#sk-container-id-2 div.sk-parallel-item::after {\n  content: \"\";\n  width: 100%;\n  border-bottom: 2px solid var(--sklearn-color-text-on-default-background);\n  flex-grow: 1;\n}\n\n#sk-container-id-2 div.sk-parallel {\n  display: flex;\n  align-items: stretch;\n  justify-content: center;\n  background-color: var(--sklearn-color-background);\n  position: relative;\n}\n\n#sk-container-id-2 div.sk-parallel-item {\n  display: flex;\n  flex-direction: column;\n}\n\n#sk-container-id-2 div.sk-parallel-item:first-child::after {\n  align-self: flex-end;\n  width: 50%;\n}\n\n#sk-container-id-2 div.sk-parallel-item:last-child::after {\n  align-self: flex-start;\n  width: 50%;\n}\n\n#sk-container-id-2 div.sk-parallel-item:only-child::after {\n  width: 0;\n}\n\n/* Serial-specific style estimator block */\n\n#sk-container-id-2 div.sk-serial {\n  display: flex;\n  flex-direction: column;\n  align-items: center;\n  background-color: var(--sklearn-color-background);\n  padding-right: 1em;\n  padding-left: 1em;\n}\n\n\n/* Toggleable style: style used for estimator/Pipeline/ColumnTransformer box that is\nclickable and can be expanded/collapsed.\n- Pipeline and ColumnTransformer use this feature and define the default style\n- Estimators will overwrite some part of the style using the `sk-estimator` class\n*/\n\n/* Pipeline and ColumnTransformer style (default) */\n\n#sk-container-id-2 div.sk-toggleable {\n  /* Default theme specific background. It is overwritten whether we have a\n  specific estimator or a Pipeline/ColumnTransformer */\n  background-color: var(--sklearn-color-background);\n}\n\n/* Toggleable label */\n#sk-container-id-2 label.sk-toggleable__label {\n  cursor: pointer;\n  display: block;\n  width: 100%;\n  margin-bottom: 0;\n  padding: 0.5em;\n  box-sizing: border-box;\n  text-align: center;\n}\n\n#sk-container-id-2 label.sk-toggleable__label-arrow:before {\n  /* Arrow on the left of the label */\n  content: \"▸\";\n  float: left;\n  margin-right: 0.25em;\n  color: var(--sklearn-color-icon);\n}\n\n#sk-container-id-2 label.sk-toggleable__label-arrow:hover:before {\n  color: var(--sklearn-color-text);\n}\n\n/* Toggleable content - dropdown */\n\n#sk-container-id-2 div.sk-toggleable__content {\n  max-height: 0;\n  max-width: 0;\n  overflow: hidden;\n  text-align: left;\n  /* unfitted */\n  background-color: var(--sklearn-color-unfitted-level-0);\n}\n\n#sk-container-id-2 div.sk-toggleable__content.fitted {\n  /* fitted */\n  background-color: var(--sklearn-color-fitted-level-0);\n}\n\n#sk-container-id-2 div.sk-toggleable__content pre {\n  margin: 0.2em;\n  border-radius: 0.25em;\n  color: var(--sklearn-color-text);\n  /* unfitted */\n  background-color: var(--sklearn-color-unfitted-level-0);\n}\n\n#sk-container-id-2 div.sk-toggleable__content.fitted pre {\n  /* unfitted */\n  background-color: var(--sklearn-color-fitted-level-0);\n}\n\n#sk-container-id-2 input.sk-toggleable__control:checked~div.sk-toggleable__content {\n  /* Expand drop-down */\n  max-height: 200px;\n  max-width: 100%;\n  overflow: auto;\n}\n\n#sk-container-id-2 input.sk-toggleable__control:checked~label.sk-toggleable__label-arrow:before {\n  content: \"▾\";\n}\n\n/* Pipeline/ColumnTransformer-specific style */\n\n#sk-container-id-2 div.sk-label input.sk-toggleable__control:checked~label.sk-toggleable__label {\n  color: var(--sklearn-color-text);\n  background-color: var(--sklearn-color-unfitted-level-2);\n}\n\n#sk-container-id-2 div.sk-label.fitted input.sk-toggleable__control:checked~label.sk-toggleable__label {\n  background-color: var(--sklearn-color-fitted-level-2);\n}\n\n/* Estimator-specific style */\n\n/* Colorize estimator box */\n#sk-container-id-2 div.sk-estimator input.sk-toggleable__control:checked~label.sk-toggleable__label {\n  /* unfitted */\n  background-color: var(--sklearn-color-unfitted-level-2);\n}\n\n#sk-container-id-2 div.sk-estimator.fitted input.sk-toggleable__control:checked~label.sk-toggleable__label {\n  /* fitted */\n  background-color: var(--sklearn-color-fitted-level-2);\n}\n\n#sk-container-id-2 div.sk-label label.sk-toggleable__label,\n#sk-container-id-2 div.sk-label label {\n  /* The background is the default theme color */\n  color: var(--sklearn-color-text-on-default-background);\n}\n\n/* On hover, darken the color of the background */\n#sk-container-id-2 div.sk-label:hover label.sk-toggleable__label {\n  color: var(--sklearn-color-text);\n  background-color: var(--sklearn-color-unfitted-level-2);\n}\n\n/* Label box, darken color on hover, fitted */\n#sk-container-id-2 div.sk-label.fitted:hover label.sk-toggleable__label.fitted {\n  color: var(--sklearn-color-text);\n  background-color: var(--sklearn-color-fitted-level-2);\n}\n\n/* Estimator label */\n\n#sk-container-id-2 div.sk-label label {\n  font-family: monospace;\n  font-weight: bold;\n  display: inline-block;\n  line-height: 1.2em;\n}\n\n#sk-container-id-2 div.sk-label-container {\n  text-align: center;\n}\n\n/* Estimator-specific */\n#sk-container-id-2 div.sk-estimator {\n  font-family: monospace;\n  border: 1px dotted var(--sklearn-color-border-box);\n  border-radius: 0.25em;\n  box-sizing: border-box;\n  margin-bottom: 0.5em;\n  /* unfitted */\n  background-color: var(--sklearn-color-unfitted-level-0);\n}\n\n#sk-container-id-2 div.sk-estimator.fitted {\n  /* fitted */\n  background-color: var(--sklearn-color-fitted-level-0);\n}\n\n/* on hover */\n#sk-container-id-2 div.sk-estimator:hover {\n  /* unfitted */\n  background-color: var(--sklearn-color-unfitted-level-2);\n}\n\n#sk-container-id-2 div.sk-estimator.fitted:hover {\n  /* fitted */\n  background-color: var(--sklearn-color-fitted-level-2);\n}\n\n/* Specification for estimator info (e.g. \"i\" and \"?\") */\n\n/* Common style for \"i\" and \"?\" */\n\n.sk-estimator-doc-link,\na:link.sk-estimator-doc-link,\na:visited.sk-estimator-doc-link {\n  float: right;\n  font-size: smaller;\n  line-height: 1em;\n  font-family: monospace;\n  background-color: var(--sklearn-color-background);\n  border-radius: 1em;\n  height: 1em;\n  width: 1em;\n  text-decoration: none !important;\n  margin-left: 1ex;\n  /* unfitted */\n  border: var(--sklearn-color-unfitted-level-1) 1pt solid;\n  color: var(--sklearn-color-unfitted-level-1);\n}\n\n.sk-estimator-doc-link.fitted,\na:link.sk-estimator-doc-link.fitted,\na:visited.sk-estimator-doc-link.fitted {\n  /* fitted */\n  border: var(--sklearn-color-fitted-level-1) 1pt solid;\n  color: var(--sklearn-color-fitted-level-1);\n}\n\n/* On hover */\ndiv.sk-estimator:hover .sk-estimator-doc-link:hover,\n.sk-estimator-doc-link:hover,\ndiv.sk-label-container:hover .sk-estimator-doc-link:hover,\n.sk-estimator-doc-link:hover {\n  /* unfitted */\n  background-color: var(--sklearn-color-unfitted-level-3);\n  color: var(--sklearn-color-background);\n  text-decoration: none;\n}\n\ndiv.sk-estimator.fitted:hover .sk-estimator-doc-link.fitted:hover,\n.sk-estimator-doc-link.fitted:hover,\ndiv.sk-label-container:hover .sk-estimator-doc-link.fitted:hover,\n.sk-estimator-doc-link.fitted:hover {\n  /* fitted */\n  background-color: var(--sklearn-color-fitted-level-3);\n  color: var(--sklearn-color-background);\n  text-decoration: none;\n}\n\n/* Span, style for the box shown on hovering the info icon */\n.sk-estimator-doc-link span {\n  display: none;\n  z-index: 9999;\n  position: relative;\n  font-weight: normal;\n  right: .2ex;\n  padding: .5ex;\n  margin: .5ex;\n  width: min-content;\n  min-width: 20ex;\n  max-width: 50ex;\n  color: var(--sklearn-color-text);\n  box-shadow: 2pt 2pt 4pt #999;\n  /* unfitted */\n  background: var(--sklearn-color-unfitted-level-0);\n  border: .5pt solid var(--sklearn-color-unfitted-level-3);\n}\n\n.sk-estimator-doc-link.fitted span {\n  /* fitted */\n  background: var(--sklearn-color-fitted-level-0);\n  border: var(--sklearn-color-fitted-level-3);\n}\n\n.sk-estimator-doc-link:hover span {\n  display: block;\n}\n\n/* \"?\"-specific style due to the `<a>` HTML tag */\n\n#sk-container-id-2 a.estimator_doc_link {\n  float: right;\n  font-size: 1rem;\n  line-height: 1em;\n  font-family: monospace;\n  background-color: var(--sklearn-color-background);\n  border-radius: 1rem;\n  height: 1rem;\n  width: 1rem;\n  text-decoration: none;\n  /* unfitted */\n  color: var(--sklearn-color-unfitted-level-1);\n  border: var(--sklearn-color-unfitted-level-1) 1pt solid;\n}\n\n#sk-container-id-2 a.estimator_doc_link.fitted {\n  /* fitted */\n  border: var(--sklearn-color-fitted-level-1) 1pt solid;\n  color: var(--sklearn-color-fitted-level-1);\n}\n\n/* On hover */\n#sk-container-id-2 a.estimator_doc_link:hover {\n  /* unfitted */\n  background-color: var(--sklearn-color-unfitted-level-3);\n  color: var(--sklearn-color-background);\n  text-decoration: none;\n}\n\n#sk-container-id-2 a.estimator_doc_link.fitted:hover {\n  /* fitted */\n  background-color: var(--sklearn-color-fitted-level-3);\n}\n</style><div id=\"sk-container-id-2\" class=\"sk-top-container\"><div class=\"sk-text-repr-fallback\"><pre>RandomForestClassifier(random_state=42)</pre><b>In a Jupyter environment, please rerun this cell to show the HTML representation or trust the notebook. <br />On GitHub, the HTML representation is unable to render, please try loading this page with nbviewer.org.</b></div><div class=\"sk-container\" hidden><div class=\"sk-item\"><div class=\"sk-estimator fitted sk-toggleable\"><input class=\"sk-toggleable__control sk-hidden--visually\" id=\"sk-estimator-id-2\" type=\"checkbox\" checked><label for=\"sk-estimator-id-2\" class=\"sk-toggleable__label fitted sk-toggleable__label-arrow fitted\">&nbsp;&nbsp;RandomForestClassifier<a class=\"sk-estimator-doc-link fitted\" rel=\"noreferrer\" target=\"_blank\" href=\"https://scikit-learn.org/1.4/modules/generated/sklearn.ensemble.RandomForestClassifier.html\">?<span>Documentation for RandomForestClassifier</span></a><span class=\"sk-estimator-doc-link fitted\">i<span>Fitted</span></span></label><div class=\"sk-toggleable__content fitted\"><pre>RandomForestClassifier(random_state=42)</pre></div> </div></div></div></div>"
     },
     "execution_count": 38,
     "metadata": {},
     "output_type": "execute_result"
    }
   ],
   "source": [
    "model_best.fit(X, y)"
   ],
   "metadata": {
    "collapsed": false,
    "ExecuteTime": {
     "end_time": "2024-02-06T02:49:25.200834500Z",
     "start_time": "2024-02-06T02:49:05.523821400Z"
    }
   },
   "id": "bbcb9c1f7b5f65e2"
  },
  {
   "cell_type": "code",
   "execution_count": 39,
   "outputs": [],
   "source": [
    "y_testdata_name = test_data['user_word']\n",
    "X_testdata = test_data.drop(['user_word'], axis=1)"
   ],
   "metadata": {
    "collapsed": false,
    "ExecuteTime": {
     "end_time": "2024-02-06T02:49:25.217033900Z",
     "start_time": "2024-02-06T02:49:25.199836500Z"
    }
   },
   "id": "90a73ac76d69fd3b"
  },
  {
   "cell_type": "code",
   "execution_count": 40,
   "outputs": [],
   "source": [
    "y_pred = model_best.predict(X_testdata)"
   ],
   "metadata": {
    "collapsed": false,
    "ExecuteTime": {
     "end_time": "2024-02-06T02:49:25.672546600Z",
     "start_time": "2024-02-06T02:49:25.213045500Z"
    }
   },
   "id": "fc99a2a1f04c3abe"
  },
  {
   "cell_type": "code",
   "execution_count": 41,
   "outputs": [],
   "source": [
    "def create_submit(result, bad_ids):\n",
    "    unique_words = result['user_word'].unique()\n",
    "    submit = pd.DataFrame({'user_word': unique_words, 'preds': -999, 'probability': 0})\n",
    "    submit = submit.sort_values(by='user_word')\n",
    "    word_id = {K: [] for K in unique_words}\n",
    "    for word in unique_words:\n",
    "        ids = result[result['user_word'] == word]['preds'].tolist()\n",
    "        for item in bad_ids:\n",
    "            while item in ids:\n",
    "                ids.remove(item)\n",
    "        unique_ids = np.unique(ids)\n",
    "        probabilities = []\n",
    "        for id in unique_ids:\n",
    "            frequency = ids.count(id)/len(ids)\n",
    "            probabilities.append({'id': id, 'frequency': frequency})\n",
    "        probabilities = sorted(probabilities, key=lambda x: x['frequency'], reverse=True)\n",
    "        word_id[word] = probabilities\n",
    "    submit = submit.reset_index(drop=True)\n",
    "\n",
    "    for index in range(len(submit)):\n",
    "        try:\n",
    "            submit['preds'][index] = word_id[submit['user_word'][index]][0]['id']\n",
    "            submit['probability'][index] = word_id[submit['user_word'][index]][0]['frequency']\n",
    "        except IndexError:\n",
    "            submit['preds'][index] = -999\n",
    "            submit['probability'][index] = 0\n",
    "    return submit, word_id\n",
    "\n",
    "def process_submit(submit, word_id):\n",
    "    while True:\n",
    "        no_repeat = True\n",
    "        for index in range(len(submit)):\n",
    "            pred = submit['preds'][index]\n",
    "            if pred == -999:\n",
    "                continue\n",
    "            max_probability = submit['probability'][index]\n",
    "            index_max_probability = index\n",
    "            repeat_indexes = [index]\n",
    "            for i in range(len(submit)):\n",
    "                if i != index:\n",
    "                    if pred == submit['preds'][i]:\n",
    "                        no_repeat = False\n",
    "                        repeat_indexes.append(i)\n",
    "                        if max_probability < submit['probability'][i]:\n",
    "                            max_probability = submit['probability'][i]\n",
    "                            index_max_probability = i\n",
    "            if not no_repeat:\n",
    "                word_max_probability = submit['user_word'][index_max_probability]\n",
    "                emptys = []\n",
    "                for key, value in word_id.items():\n",
    "                    if key!=word_max_probability:\n",
    "                        if len(value)>1:\n",
    "                            value.pop(0)\n",
    "                        elif len(value)==1:\n",
    "                            value.pop(0)\n",
    "                            emptys.append(key)\n",
    "                        else:\n",
    "                            emptys.append(key)\n",
    "                for i in repeat_indexes:\n",
    "                    if i!=index_max_probability:\n",
    "                        if submit['user_word'][i] not in emptys:\n",
    "                            submit['preds'][i] = word_id[submit['user_word'][i]][0]['id']\n",
    "                            submit['probability'][i] = word_id[submit['user_word'][i]][0]['frequency']\n",
    "                        else:\n",
    "                            submit['preds'][i] = -999\n",
    "        if no_repeat:\n",
    "            break\n",
    "    return submit, word_id"
   ],
   "metadata": {
    "collapsed": false,
    "ExecuteTime": {
     "end_time": "2024-02-06T02:49:25.720779500Z",
     "start_time": "2024-02-06T02:49:25.689120900Z"
    }
   },
   "id": "eef3ecb7af4b92f2"
  },
  {
   "cell_type": "markdown",
   "source": [
    "Постобработка предсказаний модели во втором алгоритме отличается от первого. Здесь для каждого слова формируется список предсказанных для него id и их частота появления (список сортируется по убыванию частоты). Затем устраняются повторы путём сравнения частоты всех повторяющихся id. id с максимальной частотой остается у своего слова, в то время как остальные слова получают свой второй id из списка. Алгоритм повторяется до тех пор, пока не будут устранены все повторы. Для слов, у которых исчерпан список соответствующих id, присваивается -999"
   ],
   "metadata": {
    "collapsed": false
   },
   "id": "542c2efab063c896"
  },
  {
   "cell_type": "code",
   "execution_count": 42,
   "outputs": [],
   "source": [
    "result = pd.DataFrame({'user_word': y_testdata_name, 'preds': y_pred})"
   ],
   "metadata": {
    "collapsed": false,
    "ExecuteTime": {
     "end_time": "2024-02-06T02:49:25.721772500Z",
     "start_time": "2024-02-06T02:49:25.698183900Z"
    }
   },
   "id": "77b7d45fb3ce76c0"
  },
  {
   "cell_type": "code",
   "execution_count": 43,
   "outputs": [],
   "source": [
    "bad_ids = [49, 22, 26, 46, 51, 52]"
   ],
   "metadata": {
    "collapsed": false,
    "ExecuteTime": {
     "end_time": "2024-02-06T02:49:25.722313500Z",
     "start_time": "2024-02-06T02:49:25.706211300Z"
    }
   },
   "id": "3bbb6125298682fe"
  },
  {
   "cell_type": "markdown",
   "source": [
    "Данные id найдены при помощи confusion matrix на валидационной выборке. Для них модель не смогла обучиться, поэтому они исключаются из формирования ответа"
   ],
   "metadata": {
    "collapsed": false
   },
   "id": "4aa5002eee586b3b"
  },
  {
   "cell_type": "code",
   "execution_count": 44,
   "outputs": [
    {
     "data": {
      "text/plain": "       user_word  preds  probability\n0         aucroc     24     1.000000\n1         binary     12     0.817949\n2           blue     12     0.333333\n3    categorical     14     0.674419\n4    coefficient     15     0.300000\n5      collinear     33     0.136223\n6    distributed      0     0.454545\n7        epsilon      1     0.391837\n8             f1      6     0.357049\n9            fit     15     0.256545\n10          gini     15     0.501779\n11   independent     12     0.314917\n12         lasso     53     0.441176\n13        linear     57     0.308057\n14      logistic     12     0.500000\n15          loss     19     0.725806\n16        matrix     29     0.150000\n17  minimization      0     0.154639\n18           mse     50     0.271028\n19           ols     11     0.503448\n20     precision     55     0.280702\n21       predict     39     0.361233\n22        pvalue     32     0.648649\n23            r2     54     0.528497\n24        recall      3     0.672489\n25    regression     55     0.254902\n26      residual     32     0.244444\n27         ridge     12     0.234899\n28       sigmoid     55     0.745592\n29   significant     33     0.522491\n30        target     53     0.236364\n31         tstat     15     0.225352\n32             x     18     0.315457\n33             y     12     0.192982",
      "text/html": "<div>\n<style scoped>\n    .dataframe tbody tr th:only-of-type {\n        vertical-align: middle;\n    }\n\n    .dataframe tbody tr th {\n        vertical-align: top;\n    }\n\n    .dataframe thead th {\n        text-align: right;\n    }\n</style>\n<table border=\"1\" class=\"dataframe\">\n  <thead>\n    <tr style=\"text-align: right;\">\n      <th></th>\n      <th>user_word</th>\n      <th>preds</th>\n      <th>probability</th>\n    </tr>\n  </thead>\n  <tbody>\n    <tr>\n      <th>0</th>\n      <td>aucroc</td>\n      <td>24</td>\n      <td>1.000000</td>\n    </tr>\n    <tr>\n      <th>1</th>\n      <td>binary</td>\n      <td>12</td>\n      <td>0.817949</td>\n    </tr>\n    <tr>\n      <th>2</th>\n      <td>blue</td>\n      <td>12</td>\n      <td>0.333333</td>\n    </tr>\n    <tr>\n      <th>3</th>\n      <td>categorical</td>\n      <td>14</td>\n      <td>0.674419</td>\n    </tr>\n    <tr>\n      <th>4</th>\n      <td>coefficient</td>\n      <td>15</td>\n      <td>0.300000</td>\n    </tr>\n    <tr>\n      <th>5</th>\n      <td>collinear</td>\n      <td>33</td>\n      <td>0.136223</td>\n    </tr>\n    <tr>\n      <th>6</th>\n      <td>distributed</td>\n      <td>0</td>\n      <td>0.454545</td>\n    </tr>\n    <tr>\n      <th>7</th>\n      <td>epsilon</td>\n      <td>1</td>\n      <td>0.391837</td>\n    </tr>\n    <tr>\n      <th>8</th>\n      <td>f1</td>\n      <td>6</td>\n      <td>0.357049</td>\n    </tr>\n    <tr>\n      <th>9</th>\n      <td>fit</td>\n      <td>15</td>\n      <td>0.256545</td>\n    </tr>\n    <tr>\n      <th>10</th>\n      <td>gini</td>\n      <td>15</td>\n      <td>0.501779</td>\n    </tr>\n    <tr>\n      <th>11</th>\n      <td>independent</td>\n      <td>12</td>\n      <td>0.314917</td>\n    </tr>\n    <tr>\n      <th>12</th>\n      <td>lasso</td>\n      <td>53</td>\n      <td>0.441176</td>\n    </tr>\n    <tr>\n      <th>13</th>\n      <td>linear</td>\n      <td>57</td>\n      <td>0.308057</td>\n    </tr>\n    <tr>\n      <th>14</th>\n      <td>logistic</td>\n      <td>12</td>\n      <td>0.500000</td>\n    </tr>\n    <tr>\n      <th>15</th>\n      <td>loss</td>\n      <td>19</td>\n      <td>0.725806</td>\n    </tr>\n    <tr>\n      <th>16</th>\n      <td>matrix</td>\n      <td>29</td>\n      <td>0.150000</td>\n    </tr>\n    <tr>\n      <th>17</th>\n      <td>minimization</td>\n      <td>0</td>\n      <td>0.154639</td>\n    </tr>\n    <tr>\n      <th>18</th>\n      <td>mse</td>\n      <td>50</td>\n      <td>0.271028</td>\n    </tr>\n    <tr>\n      <th>19</th>\n      <td>ols</td>\n      <td>11</td>\n      <td>0.503448</td>\n    </tr>\n    <tr>\n      <th>20</th>\n      <td>precision</td>\n      <td>55</td>\n      <td>0.280702</td>\n    </tr>\n    <tr>\n      <th>21</th>\n      <td>predict</td>\n      <td>39</td>\n      <td>0.361233</td>\n    </tr>\n    <tr>\n      <th>22</th>\n      <td>pvalue</td>\n      <td>32</td>\n      <td>0.648649</td>\n    </tr>\n    <tr>\n      <th>23</th>\n      <td>r2</td>\n      <td>54</td>\n      <td>0.528497</td>\n    </tr>\n    <tr>\n      <th>24</th>\n      <td>recall</td>\n      <td>3</td>\n      <td>0.672489</td>\n    </tr>\n    <tr>\n      <th>25</th>\n      <td>regression</td>\n      <td>55</td>\n      <td>0.254902</td>\n    </tr>\n    <tr>\n      <th>26</th>\n      <td>residual</td>\n      <td>32</td>\n      <td>0.244444</td>\n    </tr>\n    <tr>\n      <th>27</th>\n      <td>ridge</td>\n      <td>12</td>\n      <td>0.234899</td>\n    </tr>\n    <tr>\n      <th>28</th>\n      <td>sigmoid</td>\n      <td>55</td>\n      <td>0.745592</td>\n    </tr>\n    <tr>\n      <th>29</th>\n      <td>significant</td>\n      <td>33</td>\n      <td>0.522491</td>\n    </tr>\n    <tr>\n      <th>30</th>\n      <td>target</td>\n      <td>53</td>\n      <td>0.236364</td>\n    </tr>\n    <tr>\n      <th>31</th>\n      <td>tstat</td>\n      <td>15</td>\n      <td>0.225352</td>\n    </tr>\n    <tr>\n      <th>32</th>\n      <td>x</td>\n      <td>18</td>\n      <td>0.315457</td>\n    </tr>\n    <tr>\n      <th>33</th>\n      <td>y</td>\n      <td>12</td>\n      <td>0.192982</td>\n    </tr>\n  </tbody>\n</table>\n</div>"
     },
     "execution_count": 44,
     "metadata": {},
     "output_type": "execute_result"
    }
   ],
   "source": [
    "submit, word_id = create_submit(result, bad_ids)\n",
    "submit"
   ],
   "metadata": {
    "collapsed": false,
    "ExecuteTime": {
     "end_time": "2024-02-06T02:49:25.819548600Z",
     "start_time": "2024-02-06T02:49:25.710800400Z"
    }
   },
   "id": "73e8cd6c75a6e1c1"
  },
  {
   "cell_type": "code",
   "execution_count": 45,
   "outputs": [
    {
     "data": {
      "text/plain": "       user_word  preds  probability\n0         aucroc     24     1.000000\n1         binary     12     0.817949\n2           blue     40     0.166667\n3    categorical     14     0.674419\n4    coefficient   -999     0.033333\n5      collinear     47     0.061920\n6    distributed      0     0.454545\n7        epsilon      1     0.391837\n8             f1      6     0.357049\n9            fit   -999     0.026178\n10          gini     15     0.501779\n11   independent     28     0.011050\n12         lasso   -999     0.441176\n13        linear     57     0.308057\n14      logistic     53     0.500000\n15          loss     19     0.725806\n16        matrix     29     0.150000\n17  minimization   -999     0.072165\n18           mse     50     0.271028\n19           ols     11     0.503448\n20     precision     37     0.140351\n21       predict     39     0.361233\n22        pvalue     32     0.648649\n23            r2     54     0.528497\n24        recall      3     0.672489\n25    regression   -999     0.117647\n26      residual   -999     0.004444\n27         ridge     27     0.006711\n28       sigmoid     55     0.745592\n29   significant     33     0.522491\n30        target   -999     0.018182\n31         tstat   -999     0.007042\n32             x     18     0.315457\n33             y   -999     0.157895",
      "text/html": "<div>\n<style scoped>\n    .dataframe tbody tr th:only-of-type {\n        vertical-align: middle;\n    }\n\n    .dataframe tbody tr th {\n        vertical-align: top;\n    }\n\n    .dataframe thead th {\n        text-align: right;\n    }\n</style>\n<table border=\"1\" class=\"dataframe\">\n  <thead>\n    <tr style=\"text-align: right;\">\n      <th></th>\n      <th>user_word</th>\n      <th>preds</th>\n      <th>probability</th>\n    </tr>\n  </thead>\n  <tbody>\n    <tr>\n      <th>0</th>\n      <td>aucroc</td>\n      <td>24</td>\n      <td>1.000000</td>\n    </tr>\n    <tr>\n      <th>1</th>\n      <td>binary</td>\n      <td>12</td>\n      <td>0.817949</td>\n    </tr>\n    <tr>\n      <th>2</th>\n      <td>blue</td>\n      <td>40</td>\n      <td>0.166667</td>\n    </tr>\n    <tr>\n      <th>3</th>\n      <td>categorical</td>\n      <td>14</td>\n      <td>0.674419</td>\n    </tr>\n    <tr>\n      <th>4</th>\n      <td>coefficient</td>\n      <td>-999</td>\n      <td>0.033333</td>\n    </tr>\n    <tr>\n      <th>5</th>\n      <td>collinear</td>\n      <td>47</td>\n      <td>0.061920</td>\n    </tr>\n    <tr>\n      <th>6</th>\n      <td>distributed</td>\n      <td>0</td>\n      <td>0.454545</td>\n    </tr>\n    <tr>\n      <th>7</th>\n      <td>epsilon</td>\n      <td>1</td>\n      <td>0.391837</td>\n    </tr>\n    <tr>\n      <th>8</th>\n      <td>f1</td>\n      <td>6</td>\n      <td>0.357049</td>\n    </tr>\n    <tr>\n      <th>9</th>\n      <td>fit</td>\n      <td>-999</td>\n      <td>0.026178</td>\n    </tr>\n    <tr>\n      <th>10</th>\n      <td>gini</td>\n      <td>15</td>\n      <td>0.501779</td>\n    </tr>\n    <tr>\n      <th>11</th>\n      <td>independent</td>\n      <td>28</td>\n      <td>0.011050</td>\n    </tr>\n    <tr>\n      <th>12</th>\n      <td>lasso</td>\n      <td>-999</td>\n      <td>0.441176</td>\n    </tr>\n    <tr>\n      <th>13</th>\n      <td>linear</td>\n      <td>57</td>\n      <td>0.308057</td>\n    </tr>\n    <tr>\n      <th>14</th>\n      <td>logistic</td>\n      <td>53</td>\n      <td>0.500000</td>\n    </tr>\n    <tr>\n      <th>15</th>\n      <td>loss</td>\n      <td>19</td>\n      <td>0.725806</td>\n    </tr>\n    <tr>\n      <th>16</th>\n      <td>matrix</td>\n      <td>29</td>\n      <td>0.150000</td>\n    </tr>\n    <tr>\n      <th>17</th>\n      <td>minimization</td>\n      <td>-999</td>\n      <td>0.072165</td>\n    </tr>\n    <tr>\n      <th>18</th>\n      <td>mse</td>\n      <td>50</td>\n      <td>0.271028</td>\n    </tr>\n    <tr>\n      <th>19</th>\n      <td>ols</td>\n      <td>11</td>\n      <td>0.503448</td>\n    </tr>\n    <tr>\n      <th>20</th>\n      <td>precision</td>\n      <td>37</td>\n      <td>0.140351</td>\n    </tr>\n    <tr>\n      <th>21</th>\n      <td>predict</td>\n      <td>39</td>\n      <td>0.361233</td>\n    </tr>\n    <tr>\n      <th>22</th>\n      <td>pvalue</td>\n      <td>32</td>\n      <td>0.648649</td>\n    </tr>\n    <tr>\n      <th>23</th>\n      <td>r2</td>\n      <td>54</td>\n      <td>0.528497</td>\n    </tr>\n    <tr>\n      <th>24</th>\n      <td>recall</td>\n      <td>3</td>\n      <td>0.672489</td>\n    </tr>\n    <tr>\n      <th>25</th>\n      <td>regression</td>\n      <td>-999</td>\n      <td>0.117647</td>\n    </tr>\n    <tr>\n      <th>26</th>\n      <td>residual</td>\n      <td>-999</td>\n      <td>0.004444</td>\n    </tr>\n    <tr>\n      <th>27</th>\n      <td>ridge</td>\n      <td>27</td>\n      <td>0.006711</td>\n    </tr>\n    <tr>\n      <th>28</th>\n      <td>sigmoid</td>\n      <td>55</td>\n      <td>0.745592</td>\n    </tr>\n    <tr>\n      <th>29</th>\n      <td>significant</td>\n      <td>33</td>\n      <td>0.522491</td>\n    </tr>\n    <tr>\n      <th>30</th>\n      <td>target</td>\n      <td>-999</td>\n      <td>0.018182</td>\n    </tr>\n    <tr>\n      <th>31</th>\n      <td>tstat</td>\n      <td>-999</td>\n      <td>0.007042</td>\n    </tr>\n    <tr>\n      <th>32</th>\n      <td>x</td>\n      <td>18</td>\n      <td>0.315457</td>\n    </tr>\n    <tr>\n      <th>33</th>\n      <td>y</td>\n      <td>-999</td>\n      <td>0.157895</td>\n    </tr>\n  </tbody>\n</table>\n</div>"
     },
     "execution_count": 45,
     "metadata": {},
     "output_type": "execute_result"
    }
   ],
   "source": [
    "submit, word_id = process_submit(submit, word_id)\n",
    "submit"
   ],
   "metadata": {
    "collapsed": false,
    "ExecuteTime": {
     "end_time": "2024-02-06T02:49:25.907543500Z",
     "start_time": "2024-02-06T02:49:25.825949900Z"
    }
   },
   "id": "dbeecee250fe1ca5"
  },
  {
   "cell_type": "code",
   "execution_count": 46,
   "outputs": [
    {
     "data": {
      "text/plain": "       user_word  preds_x  preds_y  preds_second\n0         aucroc       24       49            24\n1         binary       12       12            12\n2           blue     -999       14            40\n3    categorical       14       37            14\n4    coefficient       26       15          -999\n5      collinear       33       33            47\n6    distributed       57       55             0\n7        epsilon        1        1             1\n8             f1        6        6             6\n9            fit        7        1          -999\n10          gini       15       15            15\n11   independent        0        1            28\n12         lasso     -999       37          -999\n13        linear       17       17            57\n14      logistic     -999       37            53\n15          loss       19       19            19\n16        matrix       54       55            29\n17  minimization       48       48          -999\n18           mse       43       37            50\n19           ols       11       37            11\n20     precision       40       37            37\n21       predict       39       37            39\n22        pvalue       32       32            32\n23            r2        9       32            54\n24        recall        3        3             3\n25    regression     -999        6          -999\n26      residual       27       55          -999\n27         ridge       35       12            27\n28       sigmoid       55       55            55\n29   significant       47       37            33\n30        target     -999       37          -999\n31         tstat       50       37          -999\n32             x       29       18            18\n33             y     -999       37          -999",
      "text/html": "<div>\n<style scoped>\n    .dataframe tbody tr th:only-of-type {\n        vertical-align: middle;\n    }\n\n    .dataframe tbody tr th {\n        vertical-align: top;\n    }\n\n    .dataframe thead th {\n        text-align: right;\n    }\n</style>\n<table border=\"1\" class=\"dataframe\">\n  <thead>\n    <tr style=\"text-align: right;\">\n      <th></th>\n      <th>user_word</th>\n      <th>preds_x</th>\n      <th>preds_y</th>\n      <th>preds_second</th>\n    </tr>\n  </thead>\n  <tbody>\n    <tr>\n      <th>0</th>\n      <td>aucroc</td>\n      <td>24</td>\n      <td>49</td>\n      <td>24</td>\n    </tr>\n    <tr>\n      <th>1</th>\n      <td>binary</td>\n      <td>12</td>\n      <td>12</td>\n      <td>12</td>\n    </tr>\n    <tr>\n      <th>2</th>\n      <td>blue</td>\n      <td>-999</td>\n      <td>14</td>\n      <td>40</td>\n    </tr>\n    <tr>\n      <th>3</th>\n      <td>categorical</td>\n      <td>14</td>\n      <td>37</td>\n      <td>14</td>\n    </tr>\n    <tr>\n      <th>4</th>\n      <td>coefficient</td>\n      <td>26</td>\n      <td>15</td>\n      <td>-999</td>\n    </tr>\n    <tr>\n      <th>5</th>\n      <td>collinear</td>\n      <td>33</td>\n      <td>33</td>\n      <td>47</td>\n    </tr>\n    <tr>\n      <th>6</th>\n      <td>distributed</td>\n      <td>57</td>\n      <td>55</td>\n      <td>0</td>\n    </tr>\n    <tr>\n      <th>7</th>\n      <td>epsilon</td>\n      <td>1</td>\n      <td>1</td>\n      <td>1</td>\n    </tr>\n    <tr>\n      <th>8</th>\n      <td>f1</td>\n      <td>6</td>\n      <td>6</td>\n      <td>6</td>\n    </tr>\n    <tr>\n      <th>9</th>\n      <td>fit</td>\n      <td>7</td>\n      <td>1</td>\n      <td>-999</td>\n    </tr>\n    <tr>\n      <th>10</th>\n      <td>gini</td>\n      <td>15</td>\n      <td>15</td>\n      <td>15</td>\n    </tr>\n    <tr>\n      <th>11</th>\n      <td>independent</td>\n      <td>0</td>\n      <td>1</td>\n      <td>28</td>\n    </tr>\n    <tr>\n      <th>12</th>\n      <td>lasso</td>\n      <td>-999</td>\n      <td>37</td>\n      <td>-999</td>\n    </tr>\n    <tr>\n      <th>13</th>\n      <td>linear</td>\n      <td>17</td>\n      <td>17</td>\n      <td>57</td>\n    </tr>\n    <tr>\n      <th>14</th>\n      <td>logistic</td>\n      <td>-999</td>\n      <td>37</td>\n      <td>53</td>\n    </tr>\n    <tr>\n      <th>15</th>\n      <td>loss</td>\n      <td>19</td>\n      <td>19</td>\n      <td>19</td>\n    </tr>\n    <tr>\n      <th>16</th>\n      <td>matrix</td>\n      <td>54</td>\n      <td>55</td>\n      <td>29</td>\n    </tr>\n    <tr>\n      <th>17</th>\n      <td>minimization</td>\n      <td>48</td>\n      <td>48</td>\n      <td>-999</td>\n    </tr>\n    <tr>\n      <th>18</th>\n      <td>mse</td>\n      <td>43</td>\n      <td>37</td>\n      <td>50</td>\n    </tr>\n    <tr>\n      <th>19</th>\n      <td>ols</td>\n      <td>11</td>\n      <td>37</td>\n      <td>11</td>\n    </tr>\n    <tr>\n      <th>20</th>\n      <td>precision</td>\n      <td>40</td>\n      <td>37</td>\n      <td>37</td>\n    </tr>\n    <tr>\n      <th>21</th>\n      <td>predict</td>\n      <td>39</td>\n      <td>37</td>\n      <td>39</td>\n    </tr>\n    <tr>\n      <th>22</th>\n      <td>pvalue</td>\n      <td>32</td>\n      <td>32</td>\n      <td>32</td>\n    </tr>\n    <tr>\n      <th>23</th>\n      <td>r2</td>\n      <td>9</td>\n      <td>32</td>\n      <td>54</td>\n    </tr>\n    <tr>\n      <th>24</th>\n      <td>recall</td>\n      <td>3</td>\n      <td>3</td>\n      <td>3</td>\n    </tr>\n    <tr>\n      <th>25</th>\n      <td>regression</td>\n      <td>-999</td>\n      <td>6</td>\n      <td>-999</td>\n    </tr>\n    <tr>\n      <th>26</th>\n      <td>residual</td>\n      <td>27</td>\n      <td>55</td>\n      <td>-999</td>\n    </tr>\n    <tr>\n      <th>27</th>\n      <td>ridge</td>\n      <td>35</td>\n      <td>12</td>\n      <td>27</td>\n    </tr>\n    <tr>\n      <th>28</th>\n      <td>sigmoid</td>\n      <td>55</td>\n      <td>55</td>\n      <td>55</td>\n    </tr>\n    <tr>\n      <th>29</th>\n      <td>significant</td>\n      <td>47</td>\n      <td>37</td>\n      <td>33</td>\n    </tr>\n    <tr>\n      <th>30</th>\n      <td>target</td>\n      <td>-999</td>\n      <td>37</td>\n      <td>-999</td>\n    </tr>\n    <tr>\n      <th>31</th>\n      <td>tstat</td>\n      <td>50</td>\n      <td>37</td>\n      <td>-999</td>\n    </tr>\n    <tr>\n      <th>32</th>\n      <td>x</td>\n      <td>29</td>\n      <td>18</td>\n      <td>18</td>\n    </tr>\n    <tr>\n      <th>33</th>\n      <td>y</td>\n      <td>-999</td>\n      <td>37</td>\n      <td>-999</td>\n    </tr>\n  </tbody>\n</table>\n</div>"
     },
     "execution_count": 46,
     "metadata": {},
     "output_type": "execute_result"
    }
   ],
   "source": [
    "final_submit['preds_second'] = submit['preds']\n",
    "final_submit"
   ],
   "metadata": {
    "collapsed": false,
    "ExecuteTime": {
     "end_time": "2024-02-06T02:49:25.935022100Z",
     "start_time": "2024-02-06T02:49:25.841822300Z"
    }
   },
   "id": "c220c0015a10a7dc"
  },
  {
   "cell_type": "markdown",
   "source": [
    "## Объединение результатов работы 3 алгоритмов\n",
    "Итоговый результат вычисляется \"голосованием\" из предсказаний 3 алгоритмов. В качестве решающего голоса при расхождении используется результат второго алгоритма, так как первый уже имеет усиление в виде предсказаний по моде"
   ],
   "metadata": {
    "collapsed": false
   },
   "id": "336e8bb42d978de2"
  },
  {
   "cell_type": "code",
   "execution_count": 47,
   "outputs": [
    {
     "data": {
      "text/plain": "       user_word  preds\n0         aucroc     24\n1         binary     12\n2           blue     40\n3    categorical     14\n4    coefficient   -999\n5      collinear     33\n6    distributed      0\n7        epsilon      1\n8             f1      6\n9            fit   -999\n10          gini     15\n11   independent     28\n12         lasso   -999\n13        linear     17\n14      logistic     53\n15          loss     19\n16        matrix     29\n17  minimization     48\n18           mse     43\n19           ols     11\n20     precision     37\n21       predict     39\n22        pvalue     32\n23            r2     54\n24        recall      3\n25    regression   -999\n26      residual   -999\n27         ridge     35\n28       sigmoid     55\n29   significant     33\n30        target   -999\n31         tstat   -999\n32             x     18\n33             y   -999",
      "text/html": "<div>\n<style scoped>\n    .dataframe tbody tr th:only-of-type {\n        vertical-align: middle;\n    }\n\n    .dataframe tbody tr th {\n        vertical-align: top;\n    }\n\n    .dataframe thead th {\n        text-align: right;\n    }\n</style>\n<table border=\"1\" class=\"dataframe\">\n  <thead>\n    <tr style=\"text-align: right;\">\n      <th></th>\n      <th>user_word</th>\n      <th>preds</th>\n    </tr>\n  </thead>\n  <tbody>\n    <tr>\n      <th>0</th>\n      <td>aucroc</td>\n      <td>24</td>\n    </tr>\n    <tr>\n      <th>1</th>\n      <td>binary</td>\n      <td>12</td>\n    </tr>\n    <tr>\n      <th>2</th>\n      <td>blue</td>\n      <td>40</td>\n    </tr>\n    <tr>\n      <th>3</th>\n      <td>categorical</td>\n      <td>14</td>\n    </tr>\n    <tr>\n      <th>4</th>\n      <td>coefficient</td>\n      <td>-999</td>\n    </tr>\n    <tr>\n      <th>5</th>\n      <td>collinear</td>\n      <td>33</td>\n    </tr>\n    <tr>\n      <th>6</th>\n      <td>distributed</td>\n      <td>0</td>\n    </tr>\n    <tr>\n      <th>7</th>\n      <td>epsilon</td>\n      <td>1</td>\n    </tr>\n    <tr>\n      <th>8</th>\n      <td>f1</td>\n      <td>6</td>\n    </tr>\n    <tr>\n      <th>9</th>\n      <td>fit</td>\n      <td>-999</td>\n    </tr>\n    <tr>\n      <th>10</th>\n      <td>gini</td>\n      <td>15</td>\n    </tr>\n    <tr>\n      <th>11</th>\n      <td>independent</td>\n      <td>28</td>\n    </tr>\n    <tr>\n      <th>12</th>\n      <td>lasso</td>\n      <td>-999</td>\n    </tr>\n    <tr>\n      <th>13</th>\n      <td>linear</td>\n      <td>17</td>\n    </tr>\n    <tr>\n      <th>14</th>\n      <td>logistic</td>\n      <td>53</td>\n    </tr>\n    <tr>\n      <th>15</th>\n      <td>loss</td>\n      <td>19</td>\n    </tr>\n    <tr>\n      <th>16</th>\n      <td>matrix</td>\n      <td>29</td>\n    </tr>\n    <tr>\n      <th>17</th>\n      <td>minimization</td>\n      <td>48</td>\n    </tr>\n    <tr>\n      <th>18</th>\n      <td>mse</td>\n      <td>43</td>\n    </tr>\n    <tr>\n      <th>19</th>\n      <td>ols</td>\n      <td>11</td>\n    </tr>\n    <tr>\n      <th>20</th>\n      <td>precision</td>\n      <td>37</td>\n    </tr>\n    <tr>\n      <th>21</th>\n      <td>predict</td>\n      <td>39</td>\n    </tr>\n    <tr>\n      <th>22</th>\n      <td>pvalue</td>\n      <td>32</td>\n    </tr>\n    <tr>\n      <th>23</th>\n      <td>r2</td>\n      <td>54</td>\n    </tr>\n    <tr>\n      <th>24</th>\n      <td>recall</td>\n      <td>3</td>\n    </tr>\n    <tr>\n      <th>25</th>\n      <td>regression</td>\n      <td>-999</td>\n    </tr>\n    <tr>\n      <th>26</th>\n      <td>residual</td>\n      <td>-999</td>\n    </tr>\n    <tr>\n      <th>27</th>\n      <td>ridge</td>\n      <td>35</td>\n    </tr>\n    <tr>\n      <th>28</th>\n      <td>sigmoid</td>\n      <td>55</td>\n    </tr>\n    <tr>\n      <th>29</th>\n      <td>significant</td>\n      <td>33</td>\n    </tr>\n    <tr>\n      <th>30</th>\n      <td>target</td>\n      <td>-999</td>\n    </tr>\n    <tr>\n      <th>31</th>\n      <td>tstat</td>\n      <td>-999</td>\n    </tr>\n    <tr>\n      <th>32</th>\n      <td>x</td>\n      <td>18</td>\n    </tr>\n    <tr>\n      <th>33</th>\n      <td>y</td>\n      <td>-999</td>\n    </tr>\n  </tbody>\n</table>\n</div>"
     },
     "execution_count": 47,
     "metadata": {},
     "output_type": "execute_result"
    }
   ],
   "source": [
    "unique_words = final_submit['user_word'].unique()\n",
    "submit_merged = pd.DataFrame({'user_word': unique_words, 'preds': -999})\n",
    "words_to_alternative_main = ['mse','ridge']\n",
    "for i in range(len(submit_merged)):\n",
    "    pred_main, pred_best, pred_mode = final_submit['preds_second'][i], final_submit['preds_x'][i], final_submit['preds_y'][i]\n",
    "    if pred_main==pred_best or pred_main==pred_mode:\n",
    "        submit_merged['preds'][i] = pred_main\n",
    "    elif pred_best==pred_mode:\n",
    "        submit_merged['preds'][i] = pred_best\n",
    "    elif final_submit['user_word'][i] in words_to_alternative_main:\n",
    "        submit_merged['preds'][i] = pred_best\n",
    "    else:\n",
    "        submit_merged['preds'][i] = pred_main\n",
    "submit_merged"
   ],
   "metadata": {
    "collapsed": false,
    "ExecuteTime": {
     "end_time": "2024-02-06T02:49:25.958705700Z",
     "start_time": "2024-02-06T02:49:25.872662600Z"
    }
   },
   "id": "c9c5b24cf9975763"
  },
  {
   "cell_type": "markdown",
   "source": [
    "Данный подход на основе результатов работы 3 алгоритмов набрал 283 балла. Эксперименты с использованием для некоторых пользователей, для которых алгоритмы не сошлись в решении, в качестве решающего голоса результат первого алгоритма позволяет улучшить результат до 297 баллов."
   ],
   "metadata": {
    "collapsed": false
   },
   "id": "8a80e740e32f1fd3"
  },
  {
   "cell_type": "markdown",
   "source": [
    "# Эксперименты\n",
    "В основе экспериментов лежит \"обратный алгоритм\". Идея в том, что в процессе загрузки ответов я обнаружил несколько пользователей, для которых мой основной алгоритм точно выдает неверные ответы (например, когда баллы не изменялись несмотря на изменение предсказания для этих пользователей). К таким пользователям относятся fit, blue, minimization, x, tstat, lasso. Я предположил, что можно попытаться поменять местами тестовую и тренировочную выборку и обучить модель как бинарный классификатор для тестовой выборки (вместо того, чтобы пытаться предсказывать всех пользователей, предсказывать является ли пользователь заданным или нет). После обучения тренировочная выборка была использована для предсказаний, чтобы проверить сколько и какие id алгоритм считает искомым пользователем"
   ],
   "metadata": {
    "collapsed": false
   },
   "id": "6f3a5faff2486288"
  },
  {
   "cell_type": "code",
   "execution_count": 48,
   "outputs": [],
   "source": [
    "train_df = pd.read_csv(\"train.csv\")\n",
    "test_df = pd.read_csv(\"test.csv\")"
   ],
   "metadata": {
    "collapsed": false,
    "ExecuteTime": {
     "end_time": "2024-02-06T02:49:26.063634100Z",
     "start_time": "2024-02-06T02:49:25.889640200Z"
    }
   },
   "id": "f10aa80acaf18e31"
  },
  {
   "cell_type": "code",
   "execution_count": 49,
   "outputs": [],
   "source": [
    "def one_hot(train, test):\n",
    "    df = pd.concat([train, test], axis=0, ignore_index=True)\n",
    "\n",
    "    columns_encode = ['hour','gate_id', 'dayweek']\n",
    "    encoder = OneHotEncoder()\n",
    "    encoded_features = pd.DataFrame(encoder.fit_transform(df[columns_encode]).toarray(), columns=encoder.get_feature_names_out(columns_encode))\n",
    "    df = pd.concat([df, encoded_features], axis=1)\n",
    "    df = df.drop(columns_encode, axis=1)\n",
    "\n",
    "    X = df[df['user_word'].isna()]\n",
    "    y = df[df['user_id'].isna()]\n",
    "    X = X.drop(['user_word'], axis=1)\n",
    "    X['user_id'] = X['user_id'].astype('int64')\n",
    "    y = y.drop(['user_id'], axis=1)\n",
    "    y_columns = y.columns.tolist()\n",
    "    y_columns.remove('user_word')\n",
    "    X = X.astype('int64')\n",
    "    return X, y\n",
    "\n",
    "def preprocess(df, is_test = False):\n",
    "    df = df.drop(['Unnamed: 0'], axis=1)\n",
    "    df['ts'] = pd.to_datetime(df['ts'])\n",
    "    df = df.sort_values(by='ts')\n",
    "    df['hour'] = df['ts'].dt.hour\n",
    "    df['dayweek'] = df['ts'].dt.dayofweek\n",
    "    df['month'] = df['ts'].dt.month\n",
    "    df['minute'] = df['ts'].dt.minute\n",
    "    df['second'] = df['ts'].dt.second\n",
    "    df['day'] = df['ts'].dt.day\n",
    "    df['minute_from_start'] = df['hour']*60 + df['minute']\n",
    "    df['seconds_from_start'] = df['minute_from_start']*60 + df['second']\n",
    "    df['last_day'] = (df['day'] == df['ts'].dt.daysinmonth).astype('int64')\n",
    "    df['pre_last_day'] = (df['day'] == df['ts'].dt.daysinmonth-1).astype('int64')\n",
    "    df['1_day'] = (df['day'] == 1).astype('int64')\n",
    "    df['2_day'] = (df['day'] == 2).astype('int64')\n",
    "    df['weekend'] = (df['dayweek'] // 5 == 1).astype(int)\n",
    "    df = df.drop(['ts'], axis=1)\n",
    "\n",
    "    if is_test:\n",
    "        user_col = 'user_word'\n",
    "    else:\n",
    "        user_col = 'user_id'\n",
    "    count_ts = 0\n",
    "    for i in range (-5, 6):\n",
    "        if i!=0:\n",
    "            df['gate_'+str(i)] = df.groupby(user_col)['gate_id'].shift(i)\n",
    "            df['gate_'+str(i)].fillna(-2, inplace=True)\n",
    "            df['gate_'+str(i)] = df['gate_'+str(i)].astype('int64')\n",
    "        if i>-5:\n",
    "            df['ts_'+str(count_ts)] = np.abs(df.groupby(user_col)['seconds_from_start'].shift(i-1) - df.groupby(user_col)['seconds_from_start'].shift(i))\n",
    "\n",
    "            df['ts_'+str(count_ts)].fillna(-1, inplace=True)\n",
    "            df['ts_'+str(count_ts)] = df['ts_'+str(count_ts)].astype('int64')\n",
    "            count_ts+=1\n",
    "    return df"
   ],
   "metadata": {
    "collapsed": false,
    "ExecuteTime": {
     "end_time": "2024-02-06T02:49:26.086572300Z",
     "start_time": "2024-02-06T02:49:25.939637900Z"
    }
   },
   "id": "3f054090b469136e"
  },
  {
   "cell_type": "code",
   "execution_count": 50,
   "outputs": [],
   "source": [
    "train_df_preprocess = preprocess(train_df)\n",
    "test_df_preprocess = preprocess(test_df, is_test=True)\n",
    "\n",
    "test_data, train_data = one_hot(train_df_preprocess, test_df_preprocess)"
   ],
   "metadata": {
    "collapsed": false,
    "ExecuteTime": {
     "end_time": "2024-02-06T02:49:26.386035900Z",
     "start_time": "2024-02-06T02:49:25.995514Z"
    }
   },
   "id": "e896968a6eaf64f1"
  },
  {
   "cell_type": "markdown",
   "source": [
    "Обратный алгоритм для пользователя x"
   ],
   "metadata": {
    "collapsed": false
   },
   "id": "134f727742501b1e"
  },
  {
   "cell_type": "code",
   "execution_count": 51,
   "outputs": [],
   "source": [
    "train_data['is_x'] = train_data['user_word'].apply(lambda x: 1 if 'x' in x else 0)"
   ],
   "metadata": {
    "collapsed": false,
    "ExecuteTime": {
     "end_time": "2024-02-06T02:49:26.392026300Z",
     "start_time": "2024-02-06T02:49:26.301778700Z"
    }
   },
   "id": "6d4b3f8b9600698b"
  },
  {
   "cell_type": "code",
   "execution_count": 52,
   "outputs": [
    {
     "data": {
      "text/plain": "is_x\n0    6641\n1     484\nName: count, dtype: int64"
     },
     "execution_count": 52,
     "metadata": {},
     "output_type": "execute_result"
    }
   ],
   "source": [
    "train_data['is_x'].value_counts()"
   ],
   "metadata": {
    "collapsed": false,
    "ExecuteTime": {
     "end_time": "2024-02-06T02:49:26.393020900Z",
     "start_time": "2024-02-06T02:49:26.308272300Z"
    }
   },
   "id": "117ce7b452e84c0f"
  },
  {
   "cell_type": "code",
   "execution_count": 53,
   "outputs": [],
   "source": [
    "labels = train_data['is_x']\n",
    "train_data = train_data.drop(['user_word','is_x'], axis=1)"
   ],
   "metadata": {
    "collapsed": false,
    "ExecuteTime": {
     "end_time": "2024-02-06T02:49:26.394018400Z",
     "start_time": "2024-02-06T02:49:26.326995600Z"
    }
   },
   "id": "8f0be630b68807c4"
  },
  {
   "cell_type": "code",
   "execution_count": 54,
   "outputs": [],
   "source": [
    "model = RandomForestClassifier(random_state=42, min_samples_split=2, n_estimators=300, max_depth=None, bootstrap=False, max_features='log2')"
   ],
   "metadata": {
    "collapsed": false,
    "ExecuteTime": {
     "end_time": "2024-02-06T02:49:26.394454800Z",
     "start_time": "2024-02-06T02:49:26.339289900Z"
    }
   },
   "id": "d3b2c7e902f27c7d"
  },
  {
   "cell_type": "code",
   "execution_count": 55,
   "outputs": [
    {
     "data": {
      "text/plain": "RandomForestClassifier(bootstrap=False, max_features='log2', n_estimators=300,\n                       random_state=42)",
      "text/html": "<style>#sk-container-id-3 {\n  /* Definition of color scheme common for light and dark mode */\n  --sklearn-color-text: black;\n  --sklearn-color-line: gray;\n  /* Definition of color scheme for unfitted estimators */\n  --sklearn-color-unfitted-level-0: #fff5e6;\n  --sklearn-color-unfitted-level-1: #f6e4d2;\n  --sklearn-color-unfitted-level-2: #ffe0b3;\n  --sklearn-color-unfitted-level-3: chocolate;\n  /* Definition of color scheme for fitted estimators */\n  --sklearn-color-fitted-level-0: #f0f8ff;\n  --sklearn-color-fitted-level-1: #d4ebff;\n  --sklearn-color-fitted-level-2: #b3dbfd;\n  --sklearn-color-fitted-level-3: cornflowerblue;\n\n  /* Specific color for light theme */\n  --sklearn-color-text-on-default-background: var(--sg-text-color, var(--theme-code-foreground, var(--jp-content-font-color1, black)));\n  --sklearn-color-background: var(--sg-background-color, var(--theme-background, var(--jp-layout-color0, white)));\n  --sklearn-color-border-box: var(--sg-text-color, var(--theme-code-foreground, var(--jp-content-font-color1, black)));\n  --sklearn-color-icon: #696969;\n\n  @media (prefers-color-scheme: dark) {\n    /* Redefinition of color scheme for dark theme */\n    --sklearn-color-text-on-default-background: var(--sg-text-color, var(--theme-code-foreground, var(--jp-content-font-color1, white)));\n    --sklearn-color-background: var(--sg-background-color, var(--theme-background, var(--jp-layout-color0, #111)));\n    --sklearn-color-border-box: var(--sg-text-color, var(--theme-code-foreground, var(--jp-content-font-color1, white)));\n    --sklearn-color-icon: #878787;\n  }\n}\n\n#sk-container-id-3 {\n  color: var(--sklearn-color-text);\n}\n\n#sk-container-id-3 pre {\n  padding: 0;\n}\n\n#sk-container-id-3 input.sk-hidden--visually {\n  border: 0;\n  clip: rect(1px 1px 1px 1px);\n  clip: rect(1px, 1px, 1px, 1px);\n  height: 1px;\n  margin: -1px;\n  overflow: hidden;\n  padding: 0;\n  position: absolute;\n  width: 1px;\n}\n\n#sk-container-id-3 div.sk-dashed-wrapped {\n  border: 1px dashed var(--sklearn-color-line);\n  margin: 0 0.4em 0.5em 0.4em;\n  box-sizing: border-box;\n  padding-bottom: 0.4em;\n  background-color: var(--sklearn-color-background);\n}\n\n#sk-container-id-3 div.sk-container {\n  /* jupyter's `normalize.less` sets `[hidden] { display: none; }`\n     but bootstrap.min.css set `[hidden] { display: none !important; }`\n     so we also need the `!important` here to be able to override the\n     default hidden behavior on the sphinx rendered scikit-learn.org.\n     See: https://github.com/scikit-learn/scikit-learn/issues/21755 */\n  display: inline-block !important;\n  position: relative;\n}\n\n#sk-container-id-3 div.sk-text-repr-fallback {\n  display: none;\n}\n\ndiv.sk-parallel-item,\ndiv.sk-serial,\ndiv.sk-item {\n  /* draw centered vertical line to link estimators */\n  background-image: linear-gradient(var(--sklearn-color-text-on-default-background), var(--sklearn-color-text-on-default-background));\n  background-size: 2px 100%;\n  background-repeat: no-repeat;\n  background-position: center center;\n}\n\n/* Parallel-specific style estimator block */\n\n#sk-container-id-3 div.sk-parallel-item::after {\n  content: \"\";\n  width: 100%;\n  border-bottom: 2px solid var(--sklearn-color-text-on-default-background);\n  flex-grow: 1;\n}\n\n#sk-container-id-3 div.sk-parallel {\n  display: flex;\n  align-items: stretch;\n  justify-content: center;\n  background-color: var(--sklearn-color-background);\n  position: relative;\n}\n\n#sk-container-id-3 div.sk-parallel-item {\n  display: flex;\n  flex-direction: column;\n}\n\n#sk-container-id-3 div.sk-parallel-item:first-child::after {\n  align-self: flex-end;\n  width: 50%;\n}\n\n#sk-container-id-3 div.sk-parallel-item:last-child::after {\n  align-self: flex-start;\n  width: 50%;\n}\n\n#sk-container-id-3 div.sk-parallel-item:only-child::after {\n  width: 0;\n}\n\n/* Serial-specific style estimator block */\n\n#sk-container-id-3 div.sk-serial {\n  display: flex;\n  flex-direction: column;\n  align-items: center;\n  background-color: var(--sklearn-color-background);\n  padding-right: 1em;\n  padding-left: 1em;\n}\n\n\n/* Toggleable style: style used for estimator/Pipeline/ColumnTransformer box that is\nclickable and can be expanded/collapsed.\n- Pipeline and ColumnTransformer use this feature and define the default style\n- Estimators will overwrite some part of the style using the `sk-estimator` class\n*/\n\n/* Pipeline and ColumnTransformer style (default) */\n\n#sk-container-id-3 div.sk-toggleable {\n  /* Default theme specific background. It is overwritten whether we have a\n  specific estimator or a Pipeline/ColumnTransformer */\n  background-color: var(--sklearn-color-background);\n}\n\n/* Toggleable label */\n#sk-container-id-3 label.sk-toggleable__label {\n  cursor: pointer;\n  display: block;\n  width: 100%;\n  margin-bottom: 0;\n  padding: 0.5em;\n  box-sizing: border-box;\n  text-align: center;\n}\n\n#sk-container-id-3 label.sk-toggleable__label-arrow:before {\n  /* Arrow on the left of the label */\n  content: \"▸\";\n  float: left;\n  margin-right: 0.25em;\n  color: var(--sklearn-color-icon);\n}\n\n#sk-container-id-3 label.sk-toggleable__label-arrow:hover:before {\n  color: var(--sklearn-color-text);\n}\n\n/* Toggleable content - dropdown */\n\n#sk-container-id-3 div.sk-toggleable__content {\n  max-height: 0;\n  max-width: 0;\n  overflow: hidden;\n  text-align: left;\n  /* unfitted */\n  background-color: var(--sklearn-color-unfitted-level-0);\n}\n\n#sk-container-id-3 div.sk-toggleable__content.fitted {\n  /* fitted */\n  background-color: var(--sklearn-color-fitted-level-0);\n}\n\n#sk-container-id-3 div.sk-toggleable__content pre {\n  margin: 0.2em;\n  border-radius: 0.25em;\n  color: var(--sklearn-color-text);\n  /* unfitted */\n  background-color: var(--sklearn-color-unfitted-level-0);\n}\n\n#sk-container-id-3 div.sk-toggleable__content.fitted pre {\n  /* unfitted */\n  background-color: var(--sklearn-color-fitted-level-0);\n}\n\n#sk-container-id-3 input.sk-toggleable__control:checked~div.sk-toggleable__content {\n  /* Expand drop-down */\n  max-height: 200px;\n  max-width: 100%;\n  overflow: auto;\n}\n\n#sk-container-id-3 input.sk-toggleable__control:checked~label.sk-toggleable__label-arrow:before {\n  content: \"▾\";\n}\n\n/* Pipeline/ColumnTransformer-specific style */\n\n#sk-container-id-3 div.sk-label input.sk-toggleable__control:checked~label.sk-toggleable__label {\n  color: var(--sklearn-color-text);\n  background-color: var(--sklearn-color-unfitted-level-2);\n}\n\n#sk-container-id-3 div.sk-label.fitted input.sk-toggleable__control:checked~label.sk-toggleable__label {\n  background-color: var(--sklearn-color-fitted-level-2);\n}\n\n/* Estimator-specific style */\n\n/* Colorize estimator box */\n#sk-container-id-3 div.sk-estimator input.sk-toggleable__control:checked~label.sk-toggleable__label {\n  /* unfitted */\n  background-color: var(--sklearn-color-unfitted-level-2);\n}\n\n#sk-container-id-3 div.sk-estimator.fitted input.sk-toggleable__control:checked~label.sk-toggleable__label {\n  /* fitted */\n  background-color: var(--sklearn-color-fitted-level-2);\n}\n\n#sk-container-id-3 div.sk-label label.sk-toggleable__label,\n#sk-container-id-3 div.sk-label label {\n  /* The background is the default theme color */\n  color: var(--sklearn-color-text-on-default-background);\n}\n\n/* On hover, darken the color of the background */\n#sk-container-id-3 div.sk-label:hover label.sk-toggleable__label {\n  color: var(--sklearn-color-text);\n  background-color: var(--sklearn-color-unfitted-level-2);\n}\n\n/* Label box, darken color on hover, fitted */\n#sk-container-id-3 div.sk-label.fitted:hover label.sk-toggleable__label.fitted {\n  color: var(--sklearn-color-text);\n  background-color: var(--sklearn-color-fitted-level-2);\n}\n\n/* Estimator label */\n\n#sk-container-id-3 div.sk-label label {\n  font-family: monospace;\n  font-weight: bold;\n  display: inline-block;\n  line-height: 1.2em;\n}\n\n#sk-container-id-3 div.sk-label-container {\n  text-align: center;\n}\n\n/* Estimator-specific */\n#sk-container-id-3 div.sk-estimator {\n  font-family: monospace;\n  border: 1px dotted var(--sklearn-color-border-box);\n  border-radius: 0.25em;\n  box-sizing: border-box;\n  margin-bottom: 0.5em;\n  /* unfitted */\n  background-color: var(--sklearn-color-unfitted-level-0);\n}\n\n#sk-container-id-3 div.sk-estimator.fitted {\n  /* fitted */\n  background-color: var(--sklearn-color-fitted-level-0);\n}\n\n/* on hover */\n#sk-container-id-3 div.sk-estimator:hover {\n  /* unfitted */\n  background-color: var(--sklearn-color-unfitted-level-2);\n}\n\n#sk-container-id-3 div.sk-estimator.fitted:hover {\n  /* fitted */\n  background-color: var(--sklearn-color-fitted-level-2);\n}\n\n/* Specification for estimator info (e.g. \"i\" and \"?\") */\n\n/* Common style for \"i\" and \"?\" */\n\n.sk-estimator-doc-link,\na:link.sk-estimator-doc-link,\na:visited.sk-estimator-doc-link {\n  float: right;\n  font-size: smaller;\n  line-height: 1em;\n  font-family: monospace;\n  background-color: var(--sklearn-color-background);\n  border-radius: 1em;\n  height: 1em;\n  width: 1em;\n  text-decoration: none !important;\n  margin-left: 1ex;\n  /* unfitted */\n  border: var(--sklearn-color-unfitted-level-1) 1pt solid;\n  color: var(--sklearn-color-unfitted-level-1);\n}\n\n.sk-estimator-doc-link.fitted,\na:link.sk-estimator-doc-link.fitted,\na:visited.sk-estimator-doc-link.fitted {\n  /* fitted */\n  border: var(--sklearn-color-fitted-level-1) 1pt solid;\n  color: var(--sklearn-color-fitted-level-1);\n}\n\n/* On hover */\ndiv.sk-estimator:hover .sk-estimator-doc-link:hover,\n.sk-estimator-doc-link:hover,\ndiv.sk-label-container:hover .sk-estimator-doc-link:hover,\n.sk-estimator-doc-link:hover {\n  /* unfitted */\n  background-color: var(--sklearn-color-unfitted-level-3);\n  color: var(--sklearn-color-background);\n  text-decoration: none;\n}\n\ndiv.sk-estimator.fitted:hover .sk-estimator-doc-link.fitted:hover,\n.sk-estimator-doc-link.fitted:hover,\ndiv.sk-label-container:hover .sk-estimator-doc-link.fitted:hover,\n.sk-estimator-doc-link.fitted:hover {\n  /* fitted */\n  background-color: var(--sklearn-color-fitted-level-3);\n  color: var(--sklearn-color-background);\n  text-decoration: none;\n}\n\n/* Span, style for the box shown on hovering the info icon */\n.sk-estimator-doc-link span {\n  display: none;\n  z-index: 9999;\n  position: relative;\n  font-weight: normal;\n  right: .2ex;\n  padding: .5ex;\n  margin: .5ex;\n  width: min-content;\n  min-width: 20ex;\n  max-width: 50ex;\n  color: var(--sklearn-color-text);\n  box-shadow: 2pt 2pt 4pt #999;\n  /* unfitted */\n  background: var(--sklearn-color-unfitted-level-0);\n  border: .5pt solid var(--sklearn-color-unfitted-level-3);\n}\n\n.sk-estimator-doc-link.fitted span {\n  /* fitted */\n  background: var(--sklearn-color-fitted-level-0);\n  border: var(--sklearn-color-fitted-level-3);\n}\n\n.sk-estimator-doc-link:hover span {\n  display: block;\n}\n\n/* \"?\"-specific style due to the `<a>` HTML tag */\n\n#sk-container-id-3 a.estimator_doc_link {\n  float: right;\n  font-size: 1rem;\n  line-height: 1em;\n  font-family: monospace;\n  background-color: var(--sklearn-color-background);\n  border-radius: 1rem;\n  height: 1rem;\n  width: 1rem;\n  text-decoration: none;\n  /* unfitted */\n  color: var(--sklearn-color-unfitted-level-1);\n  border: var(--sklearn-color-unfitted-level-1) 1pt solid;\n}\n\n#sk-container-id-3 a.estimator_doc_link.fitted {\n  /* fitted */\n  border: var(--sklearn-color-fitted-level-1) 1pt solid;\n  color: var(--sklearn-color-fitted-level-1);\n}\n\n/* On hover */\n#sk-container-id-3 a.estimator_doc_link:hover {\n  /* unfitted */\n  background-color: var(--sklearn-color-unfitted-level-3);\n  color: var(--sklearn-color-background);\n  text-decoration: none;\n}\n\n#sk-container-id-3 a.estimator_doc_link.fitted:hover {\n  /* fitted */\n  background-color: var(--sklearn-color-fitted-level-3);\n}\n</style><div id=\"sk-container-id-3\" class=\"sk-top-container\"><div class=\"sk-text-repr-fallback\"><pre>RandomForestClassifier(bootstrap=False, max_features=&#x27;log2&#x27;, n_estimators=300,\n                       random_state=42)</pre><b>In a Jupyter environment, please rerun this cell to show the HTML representation or trust the notebook. <br />On GitHub, the HTML representation is unable to render, please try loading this page with nbviewer.org.</b></div><div class=\"sk-container\" hidden><div class=\"sk-item\"><div class=\"sk-estimator fitted sk-toggleable\"><input class=\"sk-toggleable__control sk-hidden--visually\" id=\"sk-estimator-id-3\" type=\"checkbox\" checked><label for=\"sk-estimator-id-3\" class=\"sk-toggleable__label fitted sk-toggleable__label-arrow fitted\">&nbsp;&nbsp;RandomForestClassifier<a class=\"sk-estimator-doc-link fitted\" rel=\"noreferrer\" target=\"_blank\" href=\"https://scikit-learn.org/1.4/modules/generated/sklearn.ensemble.RandomForestClassifier.html\">?<span>Documentation for RandomForestClassifier</span></a><span class=\"sk-estimator-doc-link fitted\">i<span>Fitted</span></span></label><div class=\"sk-toggleable__content fitted\"><pre>RandomForestClassifier(bootstrap=False, max_features=&#x27;log2&#x27;, n_estimators=300,\n                       random_state=42)</pre></div> </div></div></div></div>"
     },
     "execution_count": 55,
     "metadata": {},
     "output_type": "execute_result"
    }
   ],
   "source": [
    "model.fit(train_data, labels)"
   ],
   "metadata": {
    "collapsed": false,
    "ExecuteTime": {
     "end_time": "2024-02-06T02:49:30.975381800Z",
     "start_time": "2024-02-06T02:49:26.352739800Z"
    }
   },
   "id": "1e77bdde6b6bb0ac"
  },
  {
   "cell_type": "code",
   "execution_count": 56,
   "outputs": [],
   "source": [
    "y = test_data['user_id']\n",
    "X = test_data.drop(['user_id'], axis=1)"
   ],
   "metadata": {
    "collapsed": false,
    "ExecuteTime": {
     "end_time": "2024-02-06T02:49:30.990639800Z",
     "start_time": "2024-02-06T02:49:30.975381800Z"
    }
   },
   "id": "6a935e04ff1f8019"
  },
  {
   "cell_type": "code",
   "execution_count": 57,
   "outputs": [],
   "source": [
    "preds = model.predict(X)"
   ],
   "metadata": {
    "collapsed": false,
    "ExecuteTime": {
     "end_time": "2024-02-06T02:49:31.952254200Z",
     "start_time": "2024-02-06T02:49:30.989644200Z"
    }
   },
   "id": "488d1a8433bca0a8"
  },
  {
   "cell_type": "code",
   "execution_count": 58,
   "outputs": [
    {
     "data": {
      "text/plain": "          0\nuser_id    \n0         2\n6         7\n11        3\n18       13\n19        1\n29        1\n33        2\n37       10\n39        2\n48        1\n49       19\n54        1\n55        4",
      "text/html": "<div>\n<style scoped>\n    .dataframe tbody tr th:only-of-type {\n        vertical-align: middle;\n    }\n\n    .dataframe tbody tr th {\n        vertical-align: top;\n    }\n\n    .dataframe thead th {\n        text-align: right;\n    }\n</style>\n<table border=\"1\" class=\"dataframe\">\n  <thead>\n    <tr style=\"text-align: right;\">\n      <th></th>\n      <th>0</th>\n    </tr>\n    <tr>\n      <th>user_id</th>\n      <th></th>\n    </tr>\n  </thead>\n  <tbody>\n    <tr>\n      <th>0</th>\n      <td>2</td>\n    </tr>\n    <tr>\n      <th>6</th>\n      <td>7</td>\n    </tr>\n    <tr>\n      <th>11</th>\n      <td>3</td>\n    </tr>\n    <tr>\n      <th>18</th>\n      <td>13</td>\n    </tr>\n    <tr>\n      <th>19</th>\n      <td>1</td>\n    </tr>\n    <tr>\n      <th>29</th>\n      <td>1</td>\n    </tr>\n    <tr>\n      <th>33</th>\n      <td>2</td>\n    </tr>\n    <tr>\n      <th>37</th>\n      <td>10</td>\n    </tr>\n    <tr>\n      <th>39</th>\n      <td>2</td>\n    </tr>\n    <tr>\n      <th>48</th>\n      <td>1</td>\n    </tr>\n    <tr>\n      <th>49</th>\n      <td>19</td>\n    </tr>\n    <tr>\n      <th>54</th>\n      <td>1</td>\n    </tr>\n    <tr>\n      <th>55</th>\n      <td>4</td>\n    </tr>\n  </tbody>\n</table>\n</div>"
     },
     "execution_count": 58,
     "metadata": {},
     "output_type": "execute_result"
    }
   ],
   "source": [
    "result = pd.concat([y, pd.DataFrame(preds)], axis=1)\n",
    "correct = result[result[0] == 1]\n",
    "correct.groupby('user_id').count()"
   ],
   "metadata": {
    "collapsed": false,
    "ExecuteTime": {
     "end_time": "2024-02-06T02:49:31.970565800Z",
     "start_time": "2024-02-06T02:49:31.955246600Z"
    }
   },
   "id": "6a5daf56b49ea20b"
  },
  {
   "cell_type": "markdown",
   "source": [
    "Обратный алгортим дает наилучший результат для id 49, 18, 37. Далее эксперементальным путем выясняем, что при id 37 результат улучшается, следовательно он является верным"
   ],
   "metadata": {
    "collapsed": false
   },
   "id": "66d01485ffaef24d"
  },
  {
   "cell_type": "code",
   "execution_count": 59,
   "outputs": [
    {
     "data": {
      "text/plain": "       user_word  preds\n0         aucroc     24\n1         binary     12\n2           blue     40\n3    categorical     14\n4    coefficient   -999\n5      collinear     33\n6    distributed      0\n7        epsilon      1\n8             f1      6\n9            fit   -999\n10          gini     15\n11   independent     28\n12         lasso   -999\n13        linear     17\n14      logistic     53\n15          loss     19\n16        matrix     29\n17  minimization     48\n18           mse     43\n19           ols     11\n20     precision     37\n21       predict     39\n22        pvalue     32\n23            r2     54\n24        recall      3\n25    regression   -999\n26      residual   -999\n27         ridge     35\n28       sigmoid     55\n29   significant     33\n30        target   -999\n31         tstat   -999\n32             x     37\n33             y   -999",
      "text/html": "<div>\n<style scoped>\n    .dataframe tbody tr th:only-of-type {\n        vertical-align: middle;\n    }\n\n    .dataframe tbody tr th {\n        vertical-align: top;\n    }\n\n    .dataframe thead th {\n        text-align: right;\n    }\n</style>\n<table border=\"1\" class=\"dataframe\">\n  <thead>\n    <tr style=\"text-align: right;\">\n      <th></th>\n      <th>user_word</th>\n      <th>preds</th>\n    </tr>\n  </thead>\n  <tbody>\n    <tr>\n      <th>0</th>\n      <td>aucroc</td>\n      <td>24</td>\n    </tr>\n    <tr>\n      <th>1</th>\n      <td>binary</td>\n      <td>12</td>\n    </tr>\n    <tr>\n      <th>2</th>\n      <td>blue</td>\n      <td>40</td>\n    </tr>\n    <tr>\n      <th>3</th>\n      <td>categorical</td>\n      <td>14</td>\n    </tr>\n    <tr>\n      <th>4</th>\n      <td>coefficient</td>\n      <td>-999</td>\n    </tr>\n    <tr>\n      <th>5</th>\n      <td>collinear</td>\n      <td>33</td>\n    </tr>\n    <tr>\n      <th>6</th>\n      <td>distributed</td>\n      <td>0</td>\n    </tr>\n    <tr>\n      <th>7</th>\n      <td>epsilon</td>\n      <td>1</td>\n    </tr>\n    <tr>\n      <th>8</th>\n      <td>f1</td>\n      <td>6</td>\n    </tr>\n    <tr>\n      <th>9</th>\n      <td>fit</td>\n      <td>-999</td>\n    </tr>\n    <tr>\n      <th>10</th>\n      <td>gini</td>\n      <td>15</td>\n    </tr>\n    <tr>\n      <th>11</th>\n      <td>independent</td>\n      <td>28</td>\n    </tr>\n    <tr>\n      <th>12</th>\n      <td>lasso</td>\n      <td>-999</td>\n    </tr>\n    <tr>\n      <th>13</th>\n      <td>linear</td>\n      <td>17</td>\n    </tr>\n    <tr>\n      <th>14</th>\n      <td>logistic</td>\n      <td>53</td>\n    </tr>\n    <tr>\n      <th>15</th>\n      <td>loss</td>\n      <td>19</td>\n    </tr>\n    <tr>\n      <th>16</th>\n      <td>matrix</td>\n      <td>29</td>\n    </tr>\n    <tr>\n      <th>17</th>\n      <td>minimization</td>\n      <td>48</td>\n    </tr>\n    <tr>\n      <th>18</th>\n      <td>mse</td>\n      <td>43</td>\n    </tr>\n    <tr>\n      <th>19</th>\n      <td>ols</td>\n      <td>11</td>\n    </tr>\n    <tr>\n      <th>20</th>\n      <td>precision</td>\n      <td>37</td>\n    </tr>\n    <tr>\n      <th>21</th>\n      <td>predict</td>\n      <td>39</td>\n    </tr>\n    <tr>\n      <th>22</th>\n      <td>pvalue</td>\n      <td>32</td>\n    </tr>\n    <tr>\n      <th>23</th>\n      <td>r2</td>\n      <td>54</td>\n    </tr>\n    <tr>\n      <th>24</th>\n      <td>recall</td>\n      <td>3</td>\n    </tr>\n    <tr>\n      <th>25</th>\n      <td>regression</td>\n      <td>-999</td>\n    </tr>\n    <tr>\n      <th>26</th>\n      <td>residual</td>\n      <td>-999</td>\n    </tr>\n    <tr>\n      <th>27</th>\n      <td>ridge</td>\n      <td>35</td>\n    </tr>\n    <tr>\n      <th>28</th>\n      <td>sigmoid</td>\n      <td>55</td>\n    </tr>\n    <tr>\n      <th>29</th>\n      <td>significant</td>\n      <td>33</td>\n    </tr>\n    <tr>\n      <th>30</th>\n      <td>target</td>\n      <td>-999</td>\n    </tr>\n    <tr>\n      <th>31</th>\n      <td>tstat</td>\n      <td>-999</td>\n    </tr>\n    <tr>\n      <th>32</th>\n      <td>x</td>\n      <td>37</td>\n    </tr>\n    <tr>\n      <th>33</th>\n      <td>y</td>\n      <td>-999</td>\n    </tr>\n  </tbody>\n</table>\n</div>"
     },
     "execution_count": 59,
     "metadata": {},
     "output_type": "execute_result"
    }
   ],
   "source": [
    "submit_merged['preds'][submit_merged['user_word']=='x'] = 37\n",
    "submit_merged"
   ],
   "metadata": {
    "collapsed": false,
    "ExecuteTime": {
     "end_time": "2024-02-06T02:49:32.007570800Z",
     "start_time": "2024-02-06T02:49:31.968570100Z"
    }
   },
   "id": "da4986e178c255a8"
  },
  {
   "cell_type": "code",
   "execution_count": 60,
   "outputs": [],
   "source": [
    "test_data, train_data = one_hot(train_df_preprocess, test_df_preprocess)"
   ],
   "metadata": {
    "collapsed": false,
    "ExecuteTime": {
     "end_time": "2024-02-06T02:49:32.148852200Z",
     "start_time": "2024-02-06T02:49:31.981640200Z"
    }
   },
   "id": "9717ea2e63c6e1de"
  },
  {
   "cell_type": "markdown",
   "source": [
    "Обратный алгоритм для пользователя fit"
   ],
   "metadata": {
    "collapsed": false
   },
   "id": "9aa23560e9d5c6de"
  },
  {
   "cell_type": "code",
   "execution_count": 61,
   "outputs": [],
   "source": [
    "train_data['is_fit'] = train_data['user_word'].apply(lambda x: 1 if 'fit' in x else 0)"
   ],
   "metadata": {
    "collapsed": false,
    "ExecuteTime": {
     "end_time": "2024-02-06T02:49:32.148852200Z",
     "start_time": "2024-02-06T02:49:32.097830400Z"
    }
   },
   "id": "64e9f665d31c0b60"
  },
  {
   "cell_type": "code",
   "execution_count": 62,
   "outputs": [
    {
     "data": {
      "text/plain": "is_fit\n0    6932\n1     193\nName: count, dtype: int64"
     },
     "execution_count": 62,
     "metadata": {},
     "output_type": "execute_result"
    }
   ],
   "source": [
    "train_data['is_fit'].value_counts()"
   ],
   "metadata": {
    "collapsed": false,
    "ExecuteTime": {
     "end_time": "2024-02-06T02:49:32.181438400Z",
     "start_time": "2024-02-06T02:49:32.107255800Z"
    }
   },
   "id": "9f18c16c058f5d69"
  },
  {
   "cell_type": "code",
   "execution_count": 63,
   "outputs": [],
   "source": [
    "labels = train_data['is_fit']\n",
    "train_data = train_data.drop(['user_word','is_fit'], axis=1)"
   ],
   "metadata": {
    "collapsed": false,
    "ExecuteTime": {
     "end_time": "2024-02-06T02:49:32.202707300Z",
     "start_time": "2024-02-06T02:49:32.116707100Z"
    }
   },
   "id": "681e18c418e92c3f"
  },
  {
   "cell_type": "code",
   "execution_count": 64,
   "outputs": [],
   "source": [
    "model = RandomForestClassifier(random_state=42, min_samples_split=2, n_estimators=300, max_depth=None, bootstrap=False, max_features='log2')"
   ],
   "metadata": {
    "collapsed": false,
    "ExecuteTime": {
     "end_time": "2024-02-06T02:49:32.202707300Z",
     "start_time": "2024-02-06T02:49:32.127154900Z"
    }
   },
   "id": "108388fcf4b61fb"
  },
  {
   "cell_type": "code",
   "execution_count": 65,
   "outputs": [
    {
     "data": {
      "text/plain": "RandomForestClassifier(bootstrap=False, max_features='log2', n_estimators=300,\n                       random_state=42)",
      "text/html": "<style>#sk-container-id-4 {\n  /* Definition of color scheme common for light and dark mode */\n  --sklearn-color-text: black;\n  --sklearn-color-line: gray;\n  /* Definition of color scheme for unfitted estimators */\n  --sklearn-color-unfitted-level-0: #fff5e6;\n  --sklearn-color-unfitted-level-1: #f6e4d2;\n  --sklearn-color-unfitted-level-2: #ffe0b3;\n  --sklearn-color-unfitted-level-3: chocolate;\n  /* Definition of color scheme for fitted estimators */\n  --sklearn-color-fitted-level-0: #f0f8ff;\n  --sklearn-color-fitted-level-1: #d4ebff;\n  --sklearn-color-fitted-level-2: #b3dbfd;\n  --sklearn-color-fitted-level-3: cornflowerblue;\n\n  /* Specific color for light theme */\n  --sklearn-color-text-on-default-background: var(--sg-text-color, var(--theme-code-foreground, var(--jp-content-font-color1, black)));\n  --sklearn-color-background: var(--sg-background-color, var(--theme-background, var(--jp-layout-color0, white)));\n  --sklearn-color-border-box: var(--sg-text-color, var(--theme-code-foreground, var(--jp-content-font-color1, black)));\n  --sklearn-color-icon: #696969;\n\n  @media (prefers-color-scheme: dark) {\n    /* Redefinition of color scheme for dark theme */\n    --sklearn-color-text-on-default-background: var(--sg-text-color, var(--theme-code-foreground, var(--jp-content-font-color1, white)));\n    --sklearn-color-background: var(--sg-background-color, var(--theme-background, var(--jp-layout-color0, #111)));\n    --sklearn-color-border-box: var(--sg-text-color, var(--theme-code-foreground, var(--jp-content-font-color1, white)));\n    --sklearn-color-icon: #878787;\n  }\n}\n\n#sk-container-id-4 {\n  color: var(--sklearn-color-text);\n}\n\n#sk-container-id-4 pre {\n  padding: 0;\n}\n\n#sk-container-id-4 input.sk-hidden--visually {\n  border: 0;\n  clip: rect(1px 1px 1px 1px);\n  clip: rect(1px, 1px, 1px, 1px);\n  height: 1px;\n  margin: -1px;\n  overflow: hidden;\n  padding: 0;\n  position: absolute;\n  width: 1px;\n}\n\n#sk-container-id-4 div.sk-dashed-wrapped {\n  border: 1px dashed var(--sklearn-color-line);\n  margin: 0 0.4em 0.5em 0.4em;\n  box-sizing: border-box;\n  padding-bottom: 0.4em;\n  background-color: var(--sklearn-color-background);\n}\n\n#sk-container-id-4 div.sk-container {\n  /* jupyter's `normalize.less` sets `[hidden] { display: none; }`\n     but bootstrap.min.css set `[hidden] { display: none !important; }`\n     so we also need the `!important` here to be able to override the\n     default hidden behavior on the sphinx rendered scikit-learn.org.\n     See: https://github.com/scikit-learn/scikit-learn/issues/21755 */\n  display: inline-block !important;\n  position: relative;\n}\n\n#sk-container-id-4 div.sk-text-repr-fallback {\n  display: none;\n}\n\ndiv.sk-parallel-item,\ndiv.sk-serial,\ndiv.sk-item {\n  /* draw centered vertical line to link estimators */\n  background-image: linear-gradient(var(--sklearn-color-text-on-default-background), var(--sklearn-color-text-on-default-background));\n  background-size: 2px 100%;\n  background-repeat: no-repeat;\n  background-position: center center;\n}\n\n/* Parallel-specific style estimator block */\n\n#sk-container-id-4 div.sk-parallel-item::after {\n  content: \"\";\n  width: 100%;\n  border-bottom: 2px solid var(--sklearn-color-text-on-default-background);\n  flex-grow: 1;\n}\n\n#sk-container-id-4 div.sk-parallel {\n  display: flex;\n  align-items: stretch;\n  justify-content: center;\n  background-color: var(--sklearn-color-background);\n  position: relative;\n}\n\n#sk-container-id-4 div.sk-parallel-item {\n  display: flex;\n  flex-direction: column;\n}\n\n#sk-container-id-4 div.sk-parallel-item:first-child::after {\n  align-self: flex-end;\n  width: 50%;\n}\n\n#sk-container-id-4 div.sk-parallel-item:last-child::after {\n  align-self: flex-start;\n  width: 50%;\n}\n\n#sk-container-id-4 div.sk-parallel-item:only-child::after {\n  width: 0;\n}\n\n/* Serial-specific style estimator block */\n\n#sk-container-id-4 div.sk-serial {\n  display: flex;\n  flex-direction: column;\n  align-items: center;\n  background-color: var(--sklearn-color-background);\n  padding-right: 1em;\n  padding-left: 1em;\n}\n\n\n/* Toggleable style: style used for estimator/Pipeline/ColumnTransformer box that is\nclickable and can be expanded/collapsed.\n- Pipeline and ColumnTransformer use this feature and define the default style\n- Estimators will overwrite some part of the style using the `sk-estimator` class\n*/\n\n/* Pipeline and ColumnTransformer style (default) */\n\n#sk-container-id-4 div.sk-toggleable {\n  /* Default theme specific background. It is overwritten whether we have a\n  specific estimator or a Pipeline/ColumnTransformer */\n  background-color: var(--sklearn-color-background);\n}\n\n/* Toggleable label */\n#sk-container-id-4 label.sk-toggleable__label {\n  cursor: pointer;\n  display: block;\n  width: 100%;\n  margin-bottom: 0;\n  padding: 0.5em;\n  box-sizing: border-box;\n  text-align: center;\n}\n\n#sk-container-id-4 label.sk-toggleable__label-arrow:before {\n  /* Arrow on the left of the label */\n  content: \"▸\";\n  float: left;\n  margin-right: 0.25em;\n  color: var(--sklearn-color-icon);\n}\n\n#sk-container-id-4 label.sk-toggleable__label-arrow:hover:before {\n  color: var(--sklearn-color-text);\n}\n\n/* Toggleable content - dropdown */\n\n#sk-container-id-4 div.sk-toggleable__content {\n  max-height: 0;\n  max-width: 0;\n  overflow: hidden;\n  text-align: left;\n  /* unfitted */\n  background-color: var(--sklearn-color-unfitted-level-0);\n}\n\n#sk-container-id-4 div.sk-toggleable__content.fitted {\n  /* fitted */\n  background-color: var(--sklearn-color-fitted-level-0);\n}\n\n#sk-container-id-4 div.sk-toggleable__content pre {\n  margin: 0.2em;\n  border-radius: 0.25em;\n  color: var(--sklearn-color-text);\n  /* unfitted */\n  background-color: var(--sklearn-color-unfitted-level-0);\n}\n\n#sk-container-id-4 div.sk-toggleable__content.fitted pre {\n  /* unfitted */\n  background-color: var(--sklearn-color-fitted-level-0);\n}\n\n#sk-container-id-4 input.sk-toggleable__control:checked~div.sk-toggleable__content {\n  /* Expand drop-down */\n  max-height: 200px;\n  max-width: 100%;\n  overflow: auto;\n}\n\n#sk-container-id-4 input.sk-toggleable__control:checked~label.sk-toggleable__label-arrow:before {\n  content: \"▾\";\n}\n\n/* Pipeline/ColumnTransformer-specific style */\n\n#sk-container-id-4 div.sk-label input.sk-toggleable__control:checked~label.sk-toggleable__label {\n  color: var(--sklearn-color-text);\n  background-color: var(--sklearn-color-unfitted-level-2);\n}\n\n#sk-container-id-4 div.sk-label.fitted input.sk-toggleable__control:checked~label.sk-toggleable__label {\n  background-color: var(--sklearn-color-fitted-level-2);\n}\n\n/* Estimator-specific style */\n\n/* Colorize estimator box */\n#sk-container-id-4 div.sk-estimator input.sk-toggleable__control:checked~label.sk-toggleable__label {\n  /* unfitted */\n  background-color: var(--sklearn-color-unfitted-level-2);\n}\n\n#sk-container-id-4 div.sk-estimator.fitted input.sk-toggleable__control:checked~label.sk-toggleable__label {\n  /* fitted */\n  background-color: var(--sklearn-color-fitted-level-2);\n}\n\n#sk-container-id-4 div.sk-label label.sk-toggleable__label,\n#sk-container-id-4 div.sk-label label {\n  /* The background is the default theme color */\n  color: var(--sklearn-color-text-on-default-background);\n}\n\n/* On hover, darken the color of the background */\n#sk-container-id-4 div.sk-label:hover label.sk-toggleable__label {\n  color: var(--sklearn-color-text);\n  background-color: var(--sklearn-color-unfitted-level-2);\n}\n\n/* Label box, darken color on hover, fitted */\n#sk-container-id-4 div.sk-label.fitted:hover label.sk-toggleable__label.fitted {\n  color: var(--sklearn-color-text);\n  background-color: var(--sklearn-color-fitted-level-2);\n}\n\n/* Estimator label */\n\n#sk-container-id-4 div.sk-label label {\n  font-family: monospace;\n  font-weight: bold;\n  display: inline-block;\n  line-height: 1.2em;\n}\n\n#sk-container-id-4 div.sk-label-container {\n  text-align: center;\n}\n\n/* Estimator-specific */\n#sk-container-id-4 div.sk-estimator {\n  font-family: monospace;\n  border: 1px dotted var(--sklearn-color-border-box);\n  border-radius: 0.25em;\n  box-sizing: border-box;\n  margin-bottom: 0.5em;\n  /* unfitted */\n  background-color: var(--sklearn-color-unfitted-level-0);\n}\n\n#sk-container-id-4 div.sk-estimator.fitted {\n  /* fitted */\n  background-color: var(--sklearn-color-fitted-level-0);\n}\n\n/* on hover */\n#sk-container-id-4 div.sk-estimator:hover {\n  /* unfitted */\n  background-color: var(--sklearn-color-unfitted-level-2);\n}\n\n#sk-container-id-4 div.sk-estimator.fitted:hover {\n  /* fitted */\n  background-color: var(--sklearn-color-fitted-level-2);\n}\n\n/* Specification for estimator info (e.g. \"i\" and \"?\") */\n\n/* Common style for \"i\" and \"?\" */\n\n.sk-estimator-doc-link,\na:link.sk-estimator-doc-link,\na:visited.sk-estimator-doc-link {\n  float: right;\n  font-size: smaller;\n  line-height: 1em;\n  font-family: monospace;\n  background-color: var(--sklearn-color-background);\n  border-radius: 1em;\n  height: 1em;\n  width: 1em;\n  text-decoration: none !important;\n  margin-left: 1ex;\n  /* unfitted */\n  border: var(--sklearn-color-unfitted-level-1) 1pt solid;\n  color: var(--sklearn-color-unfitted-level-1);\n}\n\n.sk-estimator-doc-link.fitted,\na:link.sk-estimator-doc-link.fitted,\na:visited.sk-estimator-doc-link.fitted {\n  /* fitted */\n  border: var(--sklearn-color-fitted-level-1) 1pt solid;\n  color: var(--sklearn-color-fitted-level-1);\n}\n\n/* On hover */\ndiv.sk-estimator:hover .sk-estimator-doc-link:hover,\n.sk-estimator-doc-link:hover,\ndiv.sk-label-container:hover .sk-estimator-doc-link:hover,\n.sk-estimator-doc-link:hover {\n  /* unfitted */\n  background-color: var(--sklearn-color-unfitted-level-3);\n  color: var(--sklearn-color-background);\n  text-decoration: none;\n}\n\ndiv.sk-estimator.fitted:hover .sk-estimator-doc-link.fitted:hover,\n.sk-estimator-doc-link.fitted:hover,\ndiv.sk-label-container:hover .sk-estimator-doc-link.fitted:hover,\n.sk-estimator-doc-link.fitted:hover {\n  /* fitted */\n  background-color: var(--sklearn-color-fitted-level-3);\n  color: var(--sklearn-color-background);\n  text-decoration: none;\n}\n\n/* Span, style for the box shown on hovering the info icon */\n.sk-estimator-doc-link span {\n  display: none;\n  z-index: 9999;\n  position: relative;\n  font-weight: normal;\n  right: .2ex;\n  padding: .5ex;\n  margin: .5ex;\n  width: min-content;\n  min-width: 20ex;\n  max-width: 50ex;\n  color: var(--sklearn-color-text);\n  box-shadow: 2pt 2pt 4pt #999;\n  /* unfitted */\n  background: var(--sklearn-color-unfitted-level-0);\n  border: .5pt solid var(--sklearn-color-unfitted-level-3);\n}\n\n.sk-estimator-doc-link.fitted span {\n  /* fitted */\n  background: var(--sklearn-color-fitted-level-0);\n  border: var(--sklearn-color-fitted-level-3);\n}\n\n.sk-estimator-doc-link:hover span {\n  display: block;\n}\n\n/* \"?\"-specific style due to the `<a>` HTML tag */\n\n#sk-container-id-4 a.estimator_doc_link {\n  float: right;\n  font-size: 1rem;\n  line-height: 1em;\n  font-family: monospace;\n  background-color: var(--sklearn-color-background);\n  border-radius: 1rem;\n  height: 1rem;\n  width: 1rem;\n  text-decoration: none;\n  /* unfitted */\n  color: var(--sklearn-color-unfitted-level-1);\n  border: var(--sklearn-color-unfitted-level-1) 1pt solid;\n}\n\n#sk-container-id-4 a.estimator_doc_link.fitted {\n  /* fitted */\n  border: var(--sklearn-color-fitted-level-1) 1pt solid;\n  color: var(--sklearn-color-fitted-level-1);\n}\n\n/* On hover */\n#sk-container-id-4 a.estimator_doc_link:hover {\n  /* unfitted */\n  background-color: var(--sklearn-color-unfitted-level-3);\n  color: var(--sklearn-color-background);\n  text-decoration: none;\n}\n\n#sk-container-id-4 a.estimator_doc_link.fitted:hover {\n  /* fitted */\n  background-color: var(--sklearn-color-fitted-level-3);\n}\n</style><div id=\"sk-container-id-4\" class=\"sk-top-container\"><div class=\"sk-text-repr-fallback\"><pre>RandomForestClassifier(bootstrap=False, max_features=&#x27;log2&#x27;, n_estimators=300,\n                       random_state=42)</pre><b>In a Jupyter environment, please rerun this cell to show the HTML representation or trust the notebook. <br />On GitHub, the HTML representation is unable to render, please try loading this page with nbviewer.org.</b></div><div class=\"sk-container\" hidden><div class=\"sk-item\"><div class=\"sk-estimator fitted sk-toggleable\"><input class=\"sk-toggleable__control sk-hidden--visually\" id=\"sk-estimator-id-4\" type=\"checkbox\" checked><label for=\"sk-estimator-id-4\" class=\"sk-toggleable__label fitted sk-toggleable__label-arrow fitted\">&nbsp;&nbsp;RandomForestClassifier<a class=\"sk-estimator-doc-link fitted\" rel=\"noreferrer\" target=\"_blank\" href=\"https://scikit-learn.org/1.4/modules/generated/sklearn.ensemble.RandomForestClassifier.html\">?<span>Documentation for RandomForestClassifier</span></a><span class=\"sk-estimator-doc-link fitted\">i<span>Fitted</span></span></label><div class=\"sk-toggleable__content fitted\"><pre>RandomForestClassifier(bootstrap=False, max_features=&#x27;log2&#x27;, n_estimators=300,\n                       random_state=42)</pre></div> </div></div></div></div>"
     },
     "execution_count": 65,
     "metadata": {},
     "output_type": "execute_result"
    }
   ],
   "source": [
    "model.fit(train_data, labels)"
   ],
   "metadata": {
    "collapsed": false,
    "ExecuteTime": {
     "end_time": "2024-02-06T02:49:35.178000300Z",
     "start_time": "2024-02-06T02:49:32.132650300Z"
    }
   },
   "id": "7cfafc5fc056a4eb"
  },
  {
   "cell_type": "code",
   "execution_count": 66,
   "outputs": [],
   "source": [
    "y = test_data['user_id']\n",
    "X = test_data.drop(['user_id'], axis=1)"
   ],
   "metadata": {
    "collapsed": false,
    "ExecuteTime": {
     "end_time": "2024-02-06T02:49:35.190406800Z",
     "start_time": "2024-02-06T02:49:35.178000300Z"
    }
   },
   "id": "f7f33d20a631b976"
  },
  {
   "cell_type": "code",
   "execution_count": 67,
   "outputs": [],
   "source": [
    "preds = model.predict(X)"
   ],
   "metadata": {
    "collapsed": false,
    "ExecuteTime": {
     "end_time": "2024-02-06T02:49:35.832933900Z",
     "start_time": "2024-02-06T02:49:35.192402500Z"
    }
   },
   "id": "6e15ba89bc507ce9"
  },
  {
   "cell_type": "code",
   "execution_count": 68,
   "outputs": [
    {
     "data": {
      "text/plain": "         0\nuser_id   \n2        6\n23       9",
      "text/html": "<div>\n<style scoped>\n    .dataframe tbody tr th:only-of-type {\n        vertical-align: middle;\n    }\n\n    .dataframe tbody tr th {\n        vertical-align: top;\n    }\n\n    .dataframe thead th {\n        text-align: right;\n    }\n</style>\n<table border=\"1\" class=\"dataframe\">\n  <thead>\n    <tr style=\"text-align: right;\">\n      <th></th>\n      <th>0</th>\n    </tr>\n    <tr>\n      <th>user_id</th>\n      <th></th>\n    </tr>\n  </thead>\n  <tbody>\n    <tr>\n      <th>2</th>\n      <td>6</td>\n    </tr>\n    <tr>\n      <th>23</th>\n      <td>9</td>\n    </tr>\n  </tbody>\n</table>\n</div>"
     },
     "execution_count": 68,
     "metadata": {},
     "output_type": "execute_result"
    }
   ],
   "source": [
    "result = pd.concat([y, pd.DataFrame(preds)], axis=1)\n",
    "correct = result[result[0] == 1]\n",
    "correct.groupby('user_id').count()"
   ],
   "metadata": {
    "collapsed": false,
    "ExecuteTime": {
     "end_time": "2024-02-06T02:49:35.841763Z",
     "start_time": "2024-02-06T02:49:35.833952Z"
    }
   },
   "id": "55367c922ddbf205"
  },
  {
   "cell_type": "markdown",
   "source": [
    "Обратный алгортим выдал только id 23 и 2. Далее эксперементальным путем выясняем, что при id 2 результат улучшается, следовательно он является верным"
   ],
   "metadata": {
    "collapsed": false
   },
   "id": "42b07cf2d3450258"
  },
  {
   "cell_type": "code",
   "execution_count": 69,
   "outputs": [
    {
     "data": {
      "text/plain": "       user_word  preds\n0         aucroc     24\n1         binary     12\n2           blue     40\n3    categorical     14\n4    coefficient   -999\n5      collinear     33\n6    distributed      0\n7        epsilon      1\n8             f1      6\n9            fit      2\n10          gini     15\n11   independent     28\n12         lasso   -999\n13        linear     17\n14      logistic     53\n15          loss     19\n16        matrix     29\n17  minimization     48\n18           mse     43\n19           ols     11\n20     precision     37\n21       predict     39\n22        pvalue     32\n23            r2     54\n24        recall      3\n25    regression   -999\n26      residual   -999\n27         ridge     35\n28       sigmoid     55\n29   significant     33\n30        target   -999\n31         tstat   -999\n32             x     37\n33             y   -999",
      "text/html": "<div>\n<style scoped>\n    .dataframe tbody tr th:only-of-type {\n        vertical-align: middle;\n    }\n\n    .dataframe tbody tr th {\n        vertical-align: top;\n    }\n\n    .dataframe thead th {\n        text-align: right;\n    }\n</style>\n<table border=\"1\" class=\"dataframe\">\n  <thead>\n    <tr style=\"text-align: right;\">\n      <th></th>\n      <th>user_word</th>\n      <th>preds</th>\n    </tr>\n  </thead>\n  <tbody>\n    <tr>\n      <th>0</th>\n      <td>aucroc</td>\n      <td>24</td>\n    </tr>\n    <tr>\n      <th>1</th>\n      <td>binary</td>\n      <td>12</td>\n    </tr>\n    <tr>\n      <th>2</th>\n      <td>blue</td>\n      <td>40</td>\n    </tr>\n    <tr>\n      <th>3</th>\n      <td>categorical</td>\n      <td>14</td>\n    </tr>\n    <tr>\n      <th>4</th>\n      <td>coefficient</td>\n      <td>-999</td>\n    </tr>\n    <tr>\n      <th>5</th>\n      <td>collinear</td>\n      <td>33</td>\n    </tr>\n    <tr>\n      <th>6</th>\n      <td>distributed</td>\n      <td>0</td>\n    </tr>\n    <tr>\n      <th>7</th>\n      <td>epsilon</td>\n      <td>1</td>\n    </tr>\n    <tr>\n      <th>8</th>\n      <td>f1</td>\n      <td>6</td>\n    </tr>\n    <tr>\n      <th>9</th>\n      <td>fit</td>\n      <td>2</td>\n    </tr>\n    <tr>\n      <th>10</th>\n      <td>gini</td>\n      <td>15</td>\n    </tr>\n    <tr>\n      <th>11</th>\n      <td>independent</td>\n      <td>28</td>\n    </tr>\n    <tr>\n      <th>12</th>\n      <td>lasso</td>\n      <td>-999</td>\n    </tr>\n    <tr>\n      <th>13</th>\n      <td>linear</td>\n      <td>17</td>\n    </tr>\n    <tr>\n      <th>14</th>\n      <td>logistic</td>\n      <td>53</td>\n    </tr>\n    <tr>\n      <th>15</th>\n      <td>loss</td>\n      <td>19</td>\n    </tr>\n    <tr>\n      <th>16</th>\n      <td>matrix</td>\n      <td>29</td>\n    </tr>\n    <tr>\n      <th>17</th>\n      <td>minimization</td>\n      <td>48</td>\n    </tr>\n    <tr>\n      <th>18</th>\n      <td>mse</td>\n      <td>43</td>\n    </tr>\n    <tr>\n      <th>19</th>\n      <td>ols</td>\n      <td>11</td>\n    </tr>\n    <tr>\n      <th>20</th>\n      <td>precision</td>\n      <td>37</td>\n    </tr>\n    <tr>\n      <th>21</th>\n      <td>predict</td>\n      <td>39</td>\n    </tr>\n    <tr>\n      <th>22</th>\n      <td>pvalue</td>\n      <td>32</td>\n    </tr>\n    <tr>\n      <th>23</th>\n      <td>r2</td>\n      <td>54</td>\n    </tr>\n    <tr>\n      <th>24</th>\n      <td>recall</td>\n      <td>3</td>\n    </tr>\n    <tr>\n      <th>25</th>\n      <td>regression</td>\n      <td>-999</td>\n    </tr>\n    <tr>\n      <th>26</th>\n      <td>residual</td>\n      <td>-999</td>\n    </tr>\n    <tr>\n      <th>27</th>\n      <td>ridge</td>\n      <td>35</td>\n    </tr>\n    <tr>\n      <th>28</th>\n      <td>sigmoid</td>\n      <td>55</td>\n    </tr>\n    <tr>\n      <th>29</th>\n      <td>significant</td>\n      <td>33</td>\n    </tr>\n    <tr>\n      <th>30</th>\n      <td>target</td>\n      <td>-999</td>\n    </tr>\n    <tr>\n      <th>31</th>\n      <td>tstat</td>\n      <td>-999</td>\n    </tr>\n    <tr>\n      <th>32</th>\n      <td>x</td>\n      <td>37</td>\n    </tr>\n    <tr>\n      <th>33</th>\n      <td>y</td>\n      <td>-999</td>\n    </tr>\n  </tbody>\n</table>\n</div>"
     },
     "execution_count": 69,
     "metadata": {},
     "output_type": "execute_result"
    }
   ],
   "source": [
    "submit_merged['preds'][submit_merged['user_word']=='fit'] = 2\n",
    "submit_merged"
   ],
   "metadata": {
    "collapsed": false,
    "ExecuteTime": {
     "end_time": "2024-02-06T02:49:35.859053400Z",
     "start_time": "2024-02-06T02:49:35.841763Z"
    }
   },
   "id": "2a031be7d7670a5"
  },
  {
   "cell_type": "markdown",
   "source": [
    "Использование обратного алгоритма на других ошибочных пользователях не выдало результат, так как по ним в тестовой выборке слишком мало записей. Данный подход позволил улучшить результат сначала до 316, а затем и до 330 баллов, что и стало моим итоговым результатом"
   ],
   "metadata": {
    "collapsed": false
   },
   "id": "dfb405d280418024"
  },
  {
   "cell_type": "code",
   "execution_count": 70,
   "outputs": [],
   "source": [
    "submit_merged.to_csv('answer.csv', index=False)"
   ],
   "metadata": {
    "collapsed": false,
    "ExecuteTime": {
     "end_time": "2024-02-06T02:49:35.977562700Z",
     "start_time": "2024-02-06T02:49:35.856061800Z"
    }
   },
   "id": "7bcd97b1d153328c"
  },
  {
   "cell_type": "code",
   "execution_count": 70,
   "outputs": [],
   "source": [],
   "metadata": {
    "collapsed": false,
    "ExecuteTime": {
     "end_time": "2024-02-06T02:49:35.989530300Z",
     "start_time": "2024-02-06T02:49:35.891773200Z"
    }
   },
   "id": "4f16788218bac10f"
  }
 ],
 "metadata": {
  "kernelspec": {
   "display_name": "Python 3",
   "language": "python",
   "name": "python3"
  },
  "language_info": {
   "codemirror_mode": {
    "name": "ipython",
    "version": 2
   },
   "file_extension": ".py",
   "mimetype": "text/x-python",
   "name": "python",
   "nbconvert_exporter": "python",
   "pygments_lexer": "ipython2",
   "version": "2.7.6"
  }
 },
 "nbformat": 4,
 "nbformat_minor": 5
}
